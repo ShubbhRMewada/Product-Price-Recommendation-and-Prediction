{
 "cells": [
  {
   "cell_type": "markdown",
   "metadata": {},
   "source": [
    "# Necessary Imports and Extensions"
   ]
  },
  {
   "cell_type": "code",
   "execution_count": 2,
   "metadata": {},
   "outputs": [],
   "source": [
    "import pandas as pd\n",
    "import numpy as np\n",
    "import math\n",
    "import matplotlib.pyplot as plt\n",
    "import seaborn as sns\n",
    "import warnings\n",
    "# warnings.filterwarnings('ignore')\n",
    "import nltk\n",
    "# nltk.download('stopwords')\n",
    "from nltk.corpus import stopwords\n",
    "from tqdm import tqdm\n",
    "import re\n",
    "import collections\n",
    "from wordcloud import STOPWORDS\n",
    "from scipy.sparse import csr_matrix\n",
    "from nltk.sentiment.vader import SentimentIntensityAnalyzer\n",
    "# nltk.download('vader_lexicon')\n",
    "from sklearn.model_selection import train_test_split\n",
    "from sklearn.feature_extraction.text import TfidfVectorizer\n",
    "from sklearn.feature_extraction.text import CountVectorizer\n",
    "from sklearn.preprocessing import StandardScaler\n",
    "from sklearn.preprocessing import Normalizer\n",
    "from sklearn.preprocessing import MinMaxScaler\n",
    "import string\n",
    "from sklearn.metrics import mean_squared_error\n",
    "from sklearn.metrics import mean_squared_log_error\n",
    "from wordcloud import WordCloud\n",
    "import gensim\n",
    "import time\n",
    "from gensim.models import Word2Vec\n",
    "from nltk.tokenize import word_tokenize\n",
    "import multiprocessing\n",
    "import matplotlib.image as mpimg\n",
    "import seaborn as sns\n",
    "from sklearn.linear_model import LinearRegression\n",
    "from sklearn.neural_network import MLPRegressor\n",
    "from sklearn.linear_model import LogisticRegression\n",
    "\n",
    "\n"
   ]
  },
  {
   "cell_type": "markdown",
   "metadata": {},
   "source": [
    "<br><br>"
   ]
  },
  {
   "cell_type": "markdown",
   "metadata": {},
   "source": [
    "# From Here, Initiates the Training Phase of Model.\n",
    "\n",
    "<strong><p style=\"color:blue;font-size:20px;\"> Data Preprocessing is completed in the file named \"Data Preprocessing.ipynb\".</p>\n",
    "   "
   ]
  },
  {
   "cell_type": "code",
   "execution_count": 28,
   "metadata": {
    "id": "pQVgxtersseC"
   },
   "outputs": [],
   "source": [
    "train_data = pd.read_csv(\"preprocessed_tokenized_training_data.csv\")\n",
    "train_data['concatenated_description'] = train_data['concatenated_description'].map(str)"
   ]
  },
  {
   "cell_type": "code",
   "execution_count": 30,
   "metadata": {
    "id": "GInA3QoeJl9c"
   },
   "outputs": [],
   "source": [
    "train_data['concatenated_description'] = train_data['concatenated_description'].apply(gensim.utils.simple_preprocess)"
   ]
  },
  {
   "cell_type": "code",
   "execution_count": 33,
   "metadata": {
    "scrolled": true
   },
   "outputs": [
    {
     "data": {
      "text/html": [
       "<div>\n",
       "<style scoped>\n",
       "    .dataframe tbody tr th:only-of-type {\n",
       "        vertical-align: middle;\n",
       "    }\n",
       "\n",
       "    .dataframe tbody tr th {\n",
       "        vertical-align: top;\n",
       "    }\n",
       "\n",
       "    .dataframe thead th {\n",
       "        text-align: right;\n",
       "    }\n",
       "</style>\n",
       "<table border=\"1\" class=\"dataframe\">\n",
       "  <thead>\n",
       "    <tr style=\"text-align: right;\">\n",
       "      <th></th>\n",
       "      <th>Unnamed: 0</th>\n",
       "      <th>train_id</th>\n",
       "      <th>item_condition_id</th>\n",
       "      <th>price</th>\n",
       "      <th>shipping</th>\n",
       "      <th>concatenated_description</th>\n",
       "    </tr>\n",
       "  </thead>\n",
       "  <tbody>\n",
       "    <tr>\n",
       "      <th>0</th>\n",
       "      <td>0</td>\n",
       "      <td>0</td>\n",
       "      <td>3</td>\n",
       "      <td>10.0</td>\n",
       "      <td>1</td>\n",
       "      <td>[mlb, cincinnati, reds, shirt, size, xl, not, ...</td>\n",
       "    </tr>\n",
       "    <tr>\n",
       "      <th>1</th>\n",
       "      <td>1</td>\n",
       "      <td>1</td>\n",
       "      <td>3</td>\n",
       "      <td>52.0</td>\n",
       "      <td>0</td>\n",
       "      <td>[razer, blackwidow, chroma, keyboard, razer, k...</td>\n",
       "    </tr>\n",
       "    <tr>\n",
       "      <th>2</th>\n",
       "      <td>2</td>\n",
       "      <td>2</td>\n",
       "      <td>1</td>\n",
       "      <td>10.0</td>\n",
       "      <td>1</td>\n",
       "      <td>[avaviv, blouse, target, adorable, top, hint, ...</td>\n",
       "    </tr>\n",
       "    <tr>\n",
       "      <th>3</th>\n",
       "      <td>3</td>\n",
       "      <td>3</td>\n",
       "      <td>1</td>\n",
       "      <td>35.0</td>\n",
       "      <td>1</td>\n",
       "      <td>[leather, horse, statues, not, known, new, tag...</td>\n",
       "    </tr>\n",
       "    <tr>\n",
       "      <th>4</th>\n",
       "      <td>4</td>\n",
       "      <td>4</td>\n",
       "      <td>1</td>\n",
       "      <td>44.0</td>\n",
       "      <td>0</td>\n",
       "      <td>[gold, plated, rose, not, known, complete, cer...</td>\n",
       "    </tr>\n",
       "    <tr>\n",
       "      <th>...</th>\n",
       "      <td>...</td>\n",
       "      <td>...</td>\n",
       "      <td>...</td>\n",
       "      <td>...</td>\n",
       "      <td>...</td>\n",
       "      <td>...</td>\n",
       "    </tr>\n",
       "    <tr>\n",
       "      <th>1481656</th>\n",
       "      <td>1481656</td>\n",
       "      <td>1482530</td>\n",
       "      <td>2</td>\n",
       "      <td>20.0</td>\n",
       "      <td>1</td>\n",
       "      <td>[free, people, inspired, dress, free, people, ...</td>\n",
       "    </tr>\n",
       "    <tr>\n",
       "      <th>1481657</th>\n",
       "      <td>1481657</td>\n",
       "      <td>1482531</td>\n",
       "      <td>2</td>\n",
       "      <td>14.0</td>\n",
       "      <td>0</td>\n",
       "      <td>[little, mermaid, handmade, dress, disney, lit...</td>\n",
       "    </tr>\n",
       "    <tr>\n",
       "      <th>1481658</th>\n",
       "      <td>1481658</td>\n",
       "      <td>1482532</td>\n",
       "      <td>2</td>\n",
       "      <td>12.0</td>\n",
       "      <td>0</td>\n",
       "      <td>[day, fix, containers, eating, plan, not, know...</td>\n",
       "    </tr>\n",
       "    <tr>\n",
       "      <th>1481659</th>\n",
       "      <td>1481659</td>\n",
       "      <td>1482533</td>\n",
       "      <td>3</td>\n",
       "      <td>45.0</td>\n",
       "      <td>1</td>\n",
       "      <td>[world, markets, lanterns, not, known, one, se...</td>\n",
       "    </tr>\n",
       "    <tr>\n",
       "      <th>1481660</th>\n",
       "      <td>1481660</td>\n",
       "      <td>1482534</td>\n",
       "      <td>1</td>\n",
       "      <td>22.0</td>\n",
       "      <td>0</td>\n",
       "      <td>[brand, new, lux, de, ville, wallet, not, know...</td>\n",
       "    </tr>\n",
       "  </tbody>\n",
       "</table>\n",
       "<p>1481661 rows × 6 columns</p>\n",
       "</div>"
      ],
      "text/plain": [
       "         Unnamed: 0  train_id  item_condition_id  price  shipping  \\\n",
       "0                 0         0                  3   10.0         1   \n",
       "1                 1         1                  3   52.0         0   \n",
       "2                 2         2                  1   10.0         1   \n",
       "3                 3         3                  1   35.0         1   \n",
       "4                 4         4                  1   44.0         0   \n",
       "...             ...       ...                ...    ...       ...   \n",
       "1481656     1481656   1482530                  2   20.0         1   \n",
       "1481657     1481657   1482531                  2   14.0         0   \n",
       "1481658     1481658   1482532                  2   12.0         0   \n",
       "1481659     1481659   1482533                  3   45.0         1   \n",
       "1481660     1481660   1482534                  1   22.0         0   \n",
       "\n",
       "                                  concatenated_description  \n",
       "0        [mlb, cincinnati, reds, shirt, size, xl, not, ...  \n",
       "1        [razer, blackwidow, chroma, keyboard, razer, k...  \n",
       "2        [avaviv, blouse, target, adorable, top, hint, ...  \n",
       "3        [leather, horse, statues, not, known, new, tag...  \n",
       "4        [gold, plated, rose, not, known, complete, cer...  \n",
       "...                                                    ...  \n",
       "1481656  [free, people, inspired, dress, free, people, ...  \n",
       "1481657  [little, mermaid, handmade, dress, disney, lit...  \n",
       "1481658  [day, fix, containers, eating, plan, not, know...  \n",
       "1481659  [world, markets, lanterns, not, known, one, se...  \n",
       "1481660  [brand, new, lux, de, ville, wallet, not, know...  \n",
       "\n",
       "[1481661 rows x 6 columns]"
      ]
     },
     "execution_count": 33,
     "metadata": {},
     "output_type": "execute_result"
    }
   ],
   "source": [
    "train_data"
   ]
  },
  {
   "cell_type": "markdown",
   "metadata": {},
   "source": [
    "<br><br>"
   ]
  },
  {
   "cell_type": "markdown",
   "metadata": {},
   "source": [
    "\n",
    "\n",
    "\n",
    "<strong><p style=\"color:red;font-size:30px;\">Run the next cell only if you want to train the model.</p><br><br>\n",
    "<strong><p style=\"color:green;font-size:30px;\">If already trained, Skip to the next cell and directly load the model.</p><br><br>\n",
    "<strong><p style=\"color:blue;font-size:30px;\">Note: I have trained the model and saved it as \"word2vec_sg_model\"</p>\n",
    "\n"
   ]
  },
  {
   "cell_type": "code",
   "execution_count": 13,
   "metadata": {
    "id": "QpwHNf5dJ1Sv"
   },
   "outputs": [
    {
     "name": "stdout",
     "output_type": "stream",
     "text": [
      "Time to build vocab for Model-1: 41.98 mins\n"
     ]
    }
   ],
   "source": [
    "cores = multiprocessing.cpu_count()\n",
    "\n",
    "# Build the Word2Vec model\n",
    "# Skip Gram\n",
    "# Train the Word2Vec model\n",
    "\n",
    "model1 = Word2Vec(vector_size=200, window=5, min_count=1, sg=1, workers=cores-1)\n",
    "model1.build_vocab(train_data['concatenated_description'], progress_per=1000)\n",
    "t = time.time()\n",
    "model1.train(train_data['concatenated_description'], total_examples=model1.corpus_count, epochs=20)\n",
    "print('Time to build vocab for Model-1: {} mins'.format(round((time.time() - t) / 60, 2)))\n",
    "model1.save(\"word2vec_sg_model\")"
   ]
  },
  {
   "cell_type": "markdown",
   "metadata": {},
   "source": [
    "<strong><p style=\"color:blue;font-size:30px;\">Load the model.</p>\n"
   ]
  },
  {
   "cell_type": "code",
   "execution_count": 31,
   "metadata": {
    "colab": {
     "base_uri": "https://localhost:8080/"
    },
    "id": "sYAkgFhiOytT",
    "outputId": "d42bb6bc-14be-4a56-c6e5-8ca71172fd27"
   },
   "outputs": [],
   "source": [
    "X_train = X_train[:10000]\n",
    "y_train = y_train[:10000]\n",
    "X_test = X_test[:3500]\n",
    "y_test = y_test[:3500]#Loading a pretrained model\n",
    "\n",
    "model1 = Word2Vec.load(\"word2vec_sg_model\")"
   ]
  },
  {
   "cell_type": "code",
   "execution_count": 32,
   "metadata": {},
   "outputs": [],
   "source": [
    "def avg_word2vec1(doc):\n",
    "    return np.mean([model1.wv[word] for word in doc if word in model1.wv.index_to_key], axis=0)"
   ]
  },
  {
   "cell_type": "code",
   "execution_count": 34,
   "metadata": {
    "scrolled": true
   },
   "outputs": [],
   "source": [
    "train_data_model1 = train_data.sample(frac=0.03, random_state=1)\n",
    "\n",
    "series = train_data_model1.concatenated_description.apply(avg_word2vec1)\n",
    "\n",
    "df = pd.DataFrame(series.apply(pd.Series))\n",
    "\n",
    "train_data_model1 = pd.concat([train_data_model1, df], axis=1)\n",
    "\n",
    "train_data_model1 = train_data_model1.drop(['concatenated_description'],axis=1)"
   ]
  },
  {
   "cell_type": "code",
   "execution_count": 5,
   "metadata": {},
   "outputs": [],
   "source": [
    "train_data_model1"
   ]
  },
  {
   "cell_type": "markdown",
   "metadata": {},
   "source": [
    "<strong><p style=\"color:blue;font-size:30px;\">Saving the data set for future use.</p>"
   ]
  },
  {
   "cell_type": "code",
   "execution_count": 37,
   "metadata": {},
   "outputs": [],
   "source": [
    "train_data_model1.to_csv('avgword2vec_sg.csv')"
   ]
  },
  {
   "cell_type": "code",
   "execution_count": 3,
   "metadata": {},
   "outputs": [],
   "source": [
    "train_data_model1 = pd.read_csv('avgword2vec_sg.csv')"
   ]
  },
  {
   "cell_type": "markdown",
   "metadata": {},
   "source": [
    "\n",
    "\n",
    "<strong><p style=\"color:green;font-size:30px;\">\"avgword2vec_sg.csv\" Will be used for \"train_test_split\"</p>\n",
    "    \n",
    " "
   ]
  },
  {
   "cell_type": "markdown",
   "metadata": {},
   "source": [
    "# We've our dataset ready for the Model-1."
   ]
  },
  {
   "cell_type": "code",
   "execution_count": 4,
   "id": "18d22572",
   "metadata": {
    "id": "WXoxVH1Kr13s"
   },
   "outputs": [],
   "source": [
    "data = pd.read_csv('training_data_for_Model1.csv')"
   ]
  },
  {
   "cell_type": "code",
   "execution_count": 5,
   "id": "48f19faa",
   "metadata": {},
   "outputs": [],
   "source": [
    "data.drop(columns=['Unnamed: 0'], inplace=True)"
   ]
  },
  {
   "cell_type": "code",
   "execution_count": 6,
   "id": "d8b2ce46",
   "metadata": {},
   "outputs": [],
   "source": [
    "y = data['price']\n",
    "X = data.drop(columns=['price'])"
   ]
  },
  {
   "cell_type": "markdown",
   "id": "86fcdb9b",
   "metadata": {},
   "source": [
    "# Splitting the dataset"
   ]
  },
  {
   "cell_type": "code",
   "execution_count": 7,
   "id": "a6e69f7a",
   "metadata": {},
   "outputs": [],
   "source": [
    "from sklearn.model_selection import train_test_split\n",
    "X_train, X_test, y_train, y_test = train_test_split(X, y, test_size=0.2)"
   ]
  },
  {
   "cell_type": "code",
   "execution_count": 8,
   "metadata": {},
   "outputs": [],
   "source": [
    "from sklearn.preprocessing import MinMaxScaler\n",
    "\n",
    "scaler = MinMaxScaler()\n",
    "\n",
    "X_train = pd.DataFrame(scaler.fit_transform(X_train), columns = data.drop(columns=['price']).columns)\n",
    "X_test = pd.DataFrame(scaler.fit_transform(X_test), columns = data.drop(columns=['price']).columns)"
   ]
  },
  {
   "cell_type": "code",
   "execution_count": 66,
   "metadata": {
    "scrolled": true
   },
   "outputs": [
    {
     "name": "stdout",
     "output_type": "stream",
     "text": [
      "Fitting 5 folds for each of 5 candidates, totalling 25 fits\n",
      "[CV 1/5] END activation=relu, alpha=5e-05, early_stopping=True, hidden_layer_sizes=(100,), learning_rate=constant, max_iter=1000, random_state=42, solver=adam, validation_fraction=0.2;, score=0.279 total time=  23.0s\n",
      "[CV 2/5] END activation=relu, alpha=5e-05, early_stopping=True, hidden_layer_sizes=(100,), learning_rate=constant, max_iter=1000, random_state=42, solver=adam, validation_fraction=0.2;, score=0.316 total time= 1.9min\n",
      "[CV 3/5] END activation=relu, alpha=5e-05, early_stopping=True, hidden_layer_sizes=(100,), learning_rate=constant, max_iter=1000, random_state=42, solver=adam, validation_fraction=0.2;, score=0.326 total time=  28.9s\n",
      "[CV 4/5] END activation=relu, alpha=5e-05, early_stopping=True, hidden_layer_sizes=(100,), learning_rate=constant, max_iter=1000, random_state=42, solver=adam, validation_fraction=0.2;, score=0.226 total time=  28.3s\n",
      "[CV 5/5] END activation=relu, alpha=5e-05, early_stopping=True, hidden_layer_sizes=(100,), learning_rate=constant, max_iter=1000, random_state=42, solver=adam, validation_fraction=0.2;, score=0.318 total time=  26.2s\n",
      "[CV 1/5] END activation=tanh, alpha=0.005, early_stopping=True, hidden_layer_sizes=(50,), learning_rate=invscaling, max_iter=1000, random_state=6, solver=adam, validation_fraction=0.2;, score=-0.000 total time=   2.3s\n",
      "[CV 2/5] END activation=tanh, alpha=0.005, early_stopping=True, hidden_layer_sizes=(50,), learning_rate=invscaling, max_iter=1000, random_state=6, solver=adam, validation_fraction=0.2;, score=-0.001 total time=   2.0s\n",
      "[CV 3/5] END activation=tanh, alpha=0.005, early_stopping=True, hidden_layer_sizes=(50,), learning_rate=invscaling, max_iter=1000, random_state=6, solver=adam, validation_fraction=0.2;, score=-0.001 total time=   1.4s\n",
      "[CV 4/5] END activation=tanh, alpha=0.005, early_stopping=True, hidden_layer_sizes=(50,), learning_rate=invscaling, max_iter=1000, random_state=6, solver=adam, validation_fraction=0.2;, score=-0.001 total time=   1.5s\n",
      "[CV 5/5] END activation=tanh, alpha=0.005, early_stopping=True, hidden_layer_sizes=(50,), learning_rate=invscaling, max_iter=1000, random_state=6, solver=adam, validation_fraction=0.2;, score=-0.000 total time=   2.4s\n",
      "[CV 1/5] END activation=logistic, alpha=0.005, early_stopping=True, hidden_layer_sizes=(50, 50), learning_rate=constant, max_iter=500, random_state=6, solver=adam, validation_fraction=0.2;, score=-0.000 total time=   3.4s\n",
      "[CV 2/5] END activation=logistic, alpha=0.005, early_stopping=True, hidden_layer_sizes=(50, 50), learning_rate=constant, max_iter=500, random_state=6, solver=adam, validation_fraction=0.2;, score=-0.001 total time=   2.3s\n",
      "[CV 3/5] END activation=logistic, alpha=0.005, early_stopping=True, hidden_layer_sizes=(50, 50), learning_rate=constant, max_iter=500, random_state=6, solver=adam, validation_fraction=0.2;, score=-0.000 total time=   2.4s\n",
      "[CV 4/5] END activation=logistic, alpha=0.005, early_stopping=True, hidden_layer_sizes=(50, 50), learning_rate=constant, max_iter=500, random_state=6, solver=adam, validation_fraction=0.2;, score=-0.000 total time=   2.8s\n",
      "[CV 5/5] END activation=logistic, alpha=0.005, early_stopping=True, hidden_layer_sizes=(50, 50), learning_rate=constant, max_iter=500, random_state=6, solver=adam, validation_fraction=0.2;, score=-0.000 total time=   4.0s\n",
      "[CV 1/5] END activation=logistic, alpha=5e-05, early_stopping=True, hidden_layer_sizes=(100, 50, 25), learning_rate=constant, max_iter=500, random_state=6, solver=adam, validation_fraction=0.2;, score=-0.000 total time=   7.4s\n",
      "[CV 2/5] END activation=logistic, alpha=5e-05, early_stopping=True, hidden_layer_sizes=(100, 50, 25), learning_rate=constant, max_iter=500, random_state=6, solver=adam, validation_fraction=0.2;, score=-0.002 total time=   5.9s\n",
      "[CV 3/5] END activation=logistic, alpha=5e-05, early_stopping=True, hidden_layer_sizes=(100, 50, 25), learning_rate=constant, max_iter=500, random_state=6, solver=adam, validation_fraction=0.2;, score=-0.002 total time=   7.3s\n",
      "[CV 4/5] END activation=logistic, alpha=5e-05, early_stopping=True, hidden_layer_sizes=(100, 50, 25), learning_rate=constant, max_iter=500, random_state=6, solver=adam, validation_fraction=0.2;, score=-0.000 total time=   8.0s\n",
      "[CV 5/5] END activation=logistic, alpha=5e-05, early_stopping=True, hidden_layer_sizes=(100, 50, 25), learning_rate=constant, max_iter=500, random_state=6, solver=adam, validation_fraction=0.2;, score=-0.000 total time=   8.1s\n",
      "[CV 1/5] END activation=logistic, alpha=0.0005, early_stopping=True, hidden_layer_sizes=(50, 50), learning_rate=invscaling, max_iter=500, random_state=7, solver=lbfgs, validation_fraction=0.2;, score=-0.056 total time=  45.9s\n",
      "[CV 2/5] END activation=logistic, alpha=0.0005, early_stopping=True, hidden_layer_sizes=(50, 50), learning_rate=invscaling, max_iter=500, random_state=7, solver=lbfgs, validation_fraction=0.2;, score=0.192 total time=  50.6s\n",
      "[CV 3/5] END activation=logistic, alpha=0.0005, early_stopping=True, hidden_layer_sizes=(50, 50), learning_rate=invscaling, max_iter=500, random_state=7, solver=lbfgs, validation_fraction=0.2;, score=-0.048 total time=  49.2s\n",
      "[CV 4/5] END activation=logistic, alpha=0.0005, early_stopping=True, hidden_layer_sizes=(50, 50), learning_rate=invscaling, max_iter=500, random_state=7, solver=lbfgs, validation_fraction=0.2;, score=0.208 total time=  40.3s\n",
      "[CV 5/5] END activation=logistic, alpha=0.0005, early_stopping=True, hidden_layer_sizes=(50, 50), learning_rate=invscaling, max_iter=500, random_state=7, solver=lbfgs, validation_fraction=0.2;, score=-0.122 total time=  45.8s\n",
      "Best Hyperparameters: {'validation_fraction': 0.2, 'solver': 'adam', 'random_state': 42, 'max_iter': 1000, 'learning_rate': 'constant', 'hidden_layer_sizes': (100,), 'early_stopping': True, 'alpha': 5e-05, 'activation': 'relu'}\n",
      "Mean Squared Error: 1647.118264373738\n"
     ]
    }
   ],
   "source": [
    "## Hyperparameter optimization using RandomizedSearchCV\n",
    "from sklearn.model_selection import RandomizedSearchCV, GridSearchCV\n",
    "\n",
    "\n",
    "from scipy.stats import reciprocal\n",
    "model = MLPRegressor()\n",
    "\n",
    "param_dist = {\n",
    "    'hidden_layer_sizes': [(50,), (100,), (50, 50), (100, 50, 25)],\n",
    "    'max_iter' : [500, 1000, 2000],\n",
    "    'activation': ['relu', 'tanh','logistic'],\n",
    "    'alpha' : [0.00005, 0.005, 0.0005, 0.0001],\n",
    "    'solver':['lbfgs','adam'],\n",
    "    'random_state' : [6, 7, 42],\n",
    "     'early_stopping' : [True],\n",
    "     'validation_fraction' : [0.2],\n",
    "    'learning_rate': ['invscaling','constant', 'adaptive']\n",
    "}\n",
    "\n",
    "random_search = RandomizedSearchCV(estimator=model, param_distributions=param_dist, n_iter=5, cv=5, verbose=3)\n",
    "\n",
    "# Fit the data to perform random search\n",
    "random_search.fit(X_train, y_train)\n",
    "\n",
    "# Get the best hyperparameters and model\n",
    "best_params = random_search.best_params_\n",
    "best_model = random_search.best_estimator_\n",
    "\n",
    "# Print the best hyperparameters\n",
    "print(\"Best Hyperparameters:\", best_params)\n",
    "\n",
    "# Make predictions using the best model\n",
    "y_pred = best_model.predict(X_test)\n",
    "\n",
    "# Evaluate the model's performance\n",
    "mse = mean_squared_error(y_test, y_pred)\n",
    "print(\"Mean Squared Error:\", mse)"
   ]
  },
  {
   "cell_type": "code",
   "execution_count": 18,
   "metadata": {
    "scrolled": true
   },
   "outputs": [],
   "source": [
    "best_model = MLPRegressor(validation_fraction= 0.2, \n",
    "                          solver= 'adam', \n",
    "                          random_state= 42, max_iter= 1000, \n",
    "                          learning_rate= 'constant', hidden_layer_sizes= (100,), \n",
    "                          early_stopping= True, alpha= 5e-05, activation= 'relu')"
   ]
  },
  {
   "cell_type": "code",
   "execution_count": 19,
   "metadata": {
    "scrolled": true
   },
   "outputs": [
    {
     "data": {
      "text/plain": [
       "MLPRegressor(alpha=5e-05, early_stopping=True, max_iter=1000, random_state=42,\n",
       "             validation_fraction=0.2)"
      ]
     },
     "execution_count": 19,
     "metadata": {},
     "output_type": "execute_result"
    }
   ],
   "source": [
    "warnings.filterwarnings('ignore')\n",
    "\n",
    "best_model.fit(X_train, y_train)"
   ]
  },
  {
   "cell_type": "code",
   "execution_count": 24,
   "metadata": {},
   "outputs": [],
   "source": [
    "y_K_pred = best_model.predict(X_test)"
   ]
  },
  {
   "cell_type": "code",
   "execution_count": 25,
   "metadata": {},
   "outputs": [
    {
     "name": "stdout",
     "output_type": "stream",
     "text": [
      "Mean Squared Error (MSE): 1255.9387182525772\n",
      "Root Mean Squared Error (RMSE): 35.43922570052254\n",
      "Mean Absolute Error (MAE): 13.676529631260099\n",
      "R-squared (R²): 0.2386649753170934\n",
      "Explained Variance Score: 0.23932723014210566\n"
     ]
    }
   ],
   "source": [
    "from sklearn.metrics import mean_squared_error, mean_absolute_error, r2_score, explained_variance_score\n",
    "import numpy as np\n",
    "\n",
    "\n",
    "# Mean Squared Error (MSE)\n",
    "mse = mean_squared_error(y_test, y_K_pred)\n",
    "print(\"Mean Squared Error (MSE):\", mse)\n",
    "\n",
    "# Root Mean Squared Error (RMSE)\n",
    "rmse = np.sqrt(mse)\n",
    "print(\"Root Mean Squared Error (RMSE):\", rmse)\n",
    "\n",
    "# Mean Absolute Error (MAE)\n",
    "mae = mean_absolute_error(y_test,y_K_pred)\n",
    "print(\"Mean Absolute Error (MAE):\", mae)\n",
    "\n",
    "# R-squared (R²) or Coefficient of Determination\n",
    "r2 = r2_score(y_test, y_K_pred)\n",
    "print(\"R-squared (R²):\", r2)\n",
    "\n",
    "# Explained Variance Score\n",
    "explained_var = explained_variance_score(y_test, y_K_pred)\n",
    "print(\"Explained Variance Score:\", explained_var)"
   ]
  },
  {
   "cell_type": "code",
   "execution_count": 26,
   "metadata": {},
   "outputs": [
    {
     "name": "stdout",
     "output_type": "stream",
     "text": [
      "Mean MSE: 1133.910032636651\n",
      "Root Mean Squared Error (RMSE): 33.673580632844065\n",
      "Standard Deviation of MSE: 279.5861079369809\n"
     ]
    }
   ],
   "source": [
    "from sklearn.neural_network import MLPRegressor\n",
    "from sklearn.model_selection import cross_val_score\n",
    "\n",
    "# Create an MLPRegressor model with desired hyperparameters\n",
    "model = best_model\n",
    "\n",
    "# Define the input features X and the target variable y\n",
    "\n",
    "# Perform cross-validation with 5 folds\n",
    "num_folds = 5\n",
    "scores = cross_val_score(model, X, y, cv=num_folds, scoring='neg_mean_squared_error')\n",
    "\n",
    "# Cross-validation returns negative mean squared error, so we take the absolute values\n",
    "mse_scores = -scores\n",
    "\n",
    "# Compute the mean and standard deviation of the cross-validation scores\n",
    "mean_mse = mse_scores.mean()\n",
    "std_mse = mse_scores.std()\n",
    "# Root Mean Squared Error (RMSE)\n",
    "rmse = np.sqrt(mean_mse)\n",
    "# Print the results\n",
    "print(\"Mean MSE:\", mean_mse)\n",
    "print(\"Root Mean Squared Error (RMSE):\", rmse)\n",
    "print(\"Standard Deviation of MSE:\", std_mse)"
   ]
  },
  {
   "cell_type": "markdown",
   "id": "894a93d2",
   "metadata": {},
   "source": [
    "# Kernelized Principal Component Analysis"
   ]
  },
  {
   "cell_type": "code",
   "execution_count": 27,
   "metadata": {},
   "outputs": [],
   "source": [
    "X_train = X_train[:10000]\n",
    "y_train = y_train[:10000]\n",
    "X_test = X_test[:3500]\n",
    "y_test = y_test[:3500]"
   ]
  },
  {
   "cell_type": "code",
   "execution_count": 11,
   "id": "e13cabde",
   "metadata": {},
   "outputs": [
    {
     "data": {
      "image/png": "[encoded data removed]",
      "text/plain": [
       "<Figure size 640x480 with 1 Axes>"
      ]
     },
     "metadata": {},
     "output_type": "display_data"
    },
    {
     "data": {
      "text/plain": [
       "None"
      ]
     },
     "metadata": {},
     "output_type": "display_data"
    }
   ],
   "source": [
    "from sklearn.decomposition import KernelPCA\n",
    "kpca_test = KernelPCA()\n",
    "kpca_test = kpca_test.fit_transform(X_train)\n",
    "explained_variance = np.var(kpca_test, axis=0)\n",
    "explained_variance_ratio = explained_variance / np.sum(explained_variance)\n",
    "\n",
    "sns.set(style='whitegrid')\n",
    "plt.plot(np.cumsum(explained_variance_ratio))\n",
    "plt.xlabel('number of components')\n",
    "plt.ylabel('cumulative explained variance')\n",
    "display(plt.show())\n",
    "\n",
    "evr = explained_variance_ratio\n",
    "cvr = np.cumsum(explained_variance_ratio)"
   ]
  },
  {
   "cell_type": "code",
   "execution_count": 12,
   "metadata": {},
   "outputs": [
    {
     "data": {
      "text/html": [
       "<div>\n",
       "<style scoped>\n",
       "    .dataframe tbody tr th:only-of-type {\n",
       "        vertical-align: middle;\n",
       "    }\n",
       "\n",
       "    .dataframe tbody tr th {\n",
       "        vertical-align: top;\n",
       "    }\n",
       "\n",
       "    .dataframe thead th {\n",
       "        text-align: right;\n",
       "    }\n",
       "</style>\n",
       "<table border=\"1\" class=\"dataframe\">\n",
       "  <thead>\n",
       "    <tr style=\"text-align: right;\">\n",
       "      <th></th>\n",
       "      <th>Cumulative Variance Ratio</th>\n",
       "      <th>Explained Variance Ratio</th>\n",
       "    </tr>\n",
       "  </thead>\n",
       "  <tbody>\n",
       "    <tr>\n",
       "      <th>92</th>\n",
       "      <td>0.900457</td>\n",
       "      <td>0.001520</td>\n",
       "    </tr>\n",
       "    <tr>\n",
       "      <th>93</th>\n",
       "      <td>0.901961</td>\n",
       "      <td>0.001504</td>\n",
       "    </tr>\n",
       "    <tr>\n",
       "      <th>94</th>\n",
       "      <td>0.903450</td>\n",
       "      <td>0.001489</td>\n",
       "    </tr>\n",
       "    <tr>\n",
       "      <th>95</th>\n",
       "      <td>0.904927</td>\n",
       "      <td>0.001477</td>\n",
       "    </tr>\n",
       "    <tr>\n",
       "      <th>96</th>\n",
       "      <td>0.906396</td>\n",
       "      <td>0.001469</td>\n",
       "    </tr>\n",
       "    <tr>\n",
       "      <th>...</th>\n",
       "      <td>...</td>\n",
       "      <td>...</td>\n",
       "    </tr>\n",
       "    <tr>\n",
       "      <th>197</th>\n",
       "      <td>0.998787</td>\n",
       "      <td>0.000392</td>\n",
       "    </tr>\n",
       "    <tr>\n",
       "      <th>198</th>\n",
       "      <td>0.999150</td>\n",
       "      <td>0.000364</td>\n",
       "    </tr>\n",
       "    <tr>\n",
       "      <th>199</th>\n",
       "      <td>0.999477</td>\n",
       "      <td>0.000326</td>\n",
       "    </tr>\n",
       "    <tr>\n",
       "      <th>200</th>\n",
       "      <td>0.999752</td>\n",
       "      <td>0.000275</td>\n",
       "    </tr>\n",
       "    <tr>\n",
       "      <th>201</th>\n",
       "      <td>1.000000</td>\n",
       "      <td>0.000248</td>\n",
       "    </tr>\n",
       "  </tbody>\n",
       "</table>\n",
       "<p>110 rows × 2 columns</p>\n",
       "</div>"
      ],
      "text/plain": [
       "     Cumulative Variance Ratio  Explained Variance Ratio\n",
       "92                    0.900457                  0.001520\n",
       "93                    0.901961                  0.001504\n",
       "94                    0.903450                  0.001489\n",
       "95                    0.904927                  0.001477\n",
       "96                    0.906396                  0.001469\n",
       "..                         ...                       ...\n",
       "197                   0.998787                  0.000392\n",
       "198                   0.999150                  0.000364\n",
       "199                   0.999477                  0.000326\n",
       "200                   0.999752                  0.000275\n",
       "201                   1.000000                  0.000248\n",
       "\n",
       "[110 rows x 2 columns]"
      ]
     },
     "metadata": {},
     "output_type": "display_data"
    }
   ],
   "source": [
    "kpca_df = pd.DataFrame()\n",
    "kpca_df['Cumulative Variance Ratio'] = cvr\n",
    "kpca_df['Explained Variance Ratio'] = evr\n",
    "display(kpca_df[kpca_df['Cumulative Variance Ratio'] >= 0.90])"
   ]
  },
  {
   "cell_type": "markdown",
   "metadata": {},
   "source": [
    "### From the above table, we can conclude that even if we use approx. half the number of components using Kernalized PCA, our new dataset will have a Cumulative Variance as 90% of the original dataset"
   ]
  },
  {
   "cell_type": "markdown",
   "id": "57bf9ddb",
   "metadata": {},
   "source": [
    "# KPCA Tuned"
   ]
  },
  {
   "cell_type": "code",
   "execution_count": 28,
   "id": "8eaddc8b",
   "metadata": {},
   "outputs": [],
   "source": [
    "from sklearn.decomposition import KernelPCA\n",
    "kpca = KernelPCA(n_components=175)\n",
    "X_K_train = kpca.fit_transform(X_train)\n",
    "X_K_test = kpca.transform(X_test)"
   ]
  },
  {
   "cell_type": "code",
   "execution_count": 29,
   "metadata": {
    "scrolled": true
   },
   "outputs": [
    {
     "data": {
      "text/plain": [
       "MLPRegressor(hidden_layer_sizes=5, max_iter=2000)"
      ]
     },
     "execution_count": 29,
     "metadata": {},
     "output_type": "execute_result"
    }
   ],
   "source": [
    "K_mlp = MLPRegressor(hidden_layer_sizes=5,max_iter=2000)\n",
    "K_mlp.fit(X_K_train, y_train)"
   ]
  },
  {
   "cell_type": "code",
   "execution_count": 30,
   "metadata": {},
   "outputs": [],
   "source": [
    "y_K_pred = K_mlp.predict(X_K_test)"
   ]
  },
  {
   "cell_type": "code",
   "execution_count": 32,
   "metadata": {},
   "outputs": [
    {
     "name": "stdout",
     "output_type": "stream",
     "text": [
      "Mean Squared Error (MSE): 1323.338666298721\n",
      "Root Mean Squared Error (RMSE): 36.37772211531009\n",
      "Mean Absolute Error (MAE): 14.765710471488964\n",
      "R-squared (R²): 0.18120377976789592\n",
      "Explained Variance Score: 0.18191274923045886\n"
     ]
    }
   ],
   "source": [
    "from sklearn.metrics import mean_squared_error, mean_absolute_error, r2_score, explained_variance_score\n",
    "import numpy as np\n",
    "\n",
    "\n",
    "# Mean Squared Error (MSE)\n",
    "mse = mean_squared_error(y_test, y_K_pred)\n",
    "print(\"Mean Squared Error (MSE):\", mse)\n",
    "\n",
    "# Root Mean Squared Error (RMSE)\n",
    "rmse = np.sqrt(mse)\n",
    "print(\"Root Mean Squared Error (RMSE):\", rmse)\n",
    "\n",
    "# Mean Absolute Error (MAE)\n",
    "mae = mean_absolute_error(y_test,y_K_pred)\n",
    "print(\"Mean Absolute Error (MAE):\", mae)\n",
    "\n",
    "# R-squared (R²) or Coefficient of Determination\n",
    "r2 = r2_score(y_test, y_K_pred)\n",
    "print(\"R-squared (R²):\", r2)\n",
    "\n",
    "# Explained Variance Score\n",
    "explained_var = explained_variance_score(y_test, y_K_pred)\n",
    "print(\"Explained Variance Score:\", explained_var)"
   ]
  },
  {
   "cell_type": "code",
   "execution_count": 31,
   "metadata": {},
   "outputs": [
    {
     "name": "stdout",
     "output_type": "stream",
     "text": [
      "Mean MSE: 1230.183171305447\n",
      "Root Mean Squared Error (RMSE): 35.07396714524103\n",
      "Standard Deviation of MSE: 298.83053640786596\n"
     ]
    }
   ],
   "source": [
    "from sklearn.neural_network import MLPRegressor\n",
    "from sklearn.model_selection import cross_val_score\n",
    "\n",
    "# Create an MLPRegressor model with desired hyperparameters\n",
    "model = K_mlp\n",
    "\n",
    "# Define the input features X and the target variable y\n",
    "\n",
    "# Perform cross-validation with 5 folds\n",
    "num_folds = 5\n",
    "scores = cross_val_score(model, X, y, cv=num_folds, scoring='neg_mean_squared_error')\n",
    "\n",
    "# Cross-validation returns negative mean squared error, so we take the absolute values\n",
    "mse_scores = -scores\n",
    "\n",
    "# Compute the mean and standard deviation of the cross-validation scores\n",
    "mean_mse = mse_scores.mean()\n",
    "std_mse = mse_scores.std()\n",
    "# Root Mean Squared Error (RMSE)\n",
    "rmse = np.sqrt(mean_mse)\n",
    "# Print the results\n",
    "print(\"Mean MSE:\", mean_mse)\n",
    "print(\"Root Mean Squared Error (RMSE):\", rmse)\n",
    "print(\"Standard Deviation of MSE:\", std_mse)"
   ]
  },
  {
   "cell_type": "code",
   "execution_count": 33,
   "metadata": {},
   "outputs": [],
   "source": [
    "import pickle\n",
    "filename = 'sg_PCA_model3.pkl'\n",
    "with open(filename, 'wb') as file:\n",
    "    pickle.dump(K_mlp, file)\n"
   ]
  },
  {
   "cell_type": "code",
   "execution_count": 34,
   "metadata": {},
   "outputs": [],
   "source": [
    "import pickle\n",
    "filename = 'sg_model3.pkl'\n",
    "with open(filename, 'wb') as file:\n",
    "    pickle.dump(best_model, file)\n"
   ]
  }
 ],
 "metadata": {
  "colab": {
   "gpuType": "T4",
   "provenance": []
  },
  "kernelspec": {
   "display_name": "Python 3 (ipykernel)",
   "language": "python",
   "name": "python3"
  },
  "language_info": {
   "codemirror_mode": {
    "name": "ipython",
    "version": 3
   },
   "file_extension": ".py",
   "mimetype": "text/x-python",
   "name": "python",
   "nbconvert_exporter": "python",
   "pygments_lexer": "ipython3",
   "version": "3.9.12"
  }
 },
 "nbformat": 4,
 "nbformat_minor": 1
}
