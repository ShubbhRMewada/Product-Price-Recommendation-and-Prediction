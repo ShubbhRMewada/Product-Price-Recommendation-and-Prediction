{
 "cells": [
  {
   "cell_type": "code",
   "execution_count": 1,
   "metadata": {
    "colab": {
     "base_uri": "https://localhost:8080/"
    },
    "id": "KQ-7qovRrodq",
    "outputId": "ef79fceb-0fb0-4e1e-944d-3c794e23e338",
    "scrolled": true
   },
   "outputs": [],
   "source": [
    "\n",
    "# !pip install gensim\n",
    "# !pip install python-Levenshtein\n",
    "\n",
    "\n",
    "\n",
    "import pandas as pd\n",
    "import numpy as np\n",
    "import math\n",
    "import matplotlib.pyplot as plt\n",
    "import seaborn as sns\n",
    "import warnings\n",
    "warnings.filterwarnings('ignore')\n",
    "# import nltk\n",
    "# nltk.download('stopwords')\n",
    "# from nltk.corpus import stopwords\n",
    "from tqdm import tqdm\n",
    "import re\n",
    "import collections\n",
    "# from wordcloud import STOPWORDS\n",
    "# from scipy.sparse import csr_matrix\n",
    "# from nltk.sentiment.vader import SentimentIntensityAnalyzer\n",
    "# nltk.download('vader_lexicon')\n",
    "from sklearn.model_selection import train_test_split\n",
    "from sklearn.feature_extraction.text import TfidfVectorizer\n",
    "from sklearn.feature_extraction.text import CountVectorizer\n",
    "from sklearn.preprocessing import StandardScaler\n",
    "from sklearn.preprocessing import Normalizer\n",
    "from sklearn.preprocessing import MinMaxScaler\n",
    "# import string\n",
    "from sklearn.metrics import mean_squared_error\n",
    "from sklearn.metrics import mean_squared_log_error\n",
    "from wordcloud import WordCloud\n",
    "import gensim\n",
    "import time\n",
    "from gensim.models import Word2Vec\n",
    "from nltk.tokenize import word_tokenize\n",
    "import multiprocessing\n",
    "import matplotlib.image as mpimg\n",
    "import seaborn as sns\n",
    "from sklearn.linear_model import LinearRegression\n",
    "from sklearn.neural_network import MLPRegressor\n",
    "from sklearn.linear_model import LogisticRegression\n",
    "\n"
   ]
  },
  {
   "cell_type": "markdown",
   "metadata": {},
   "source": [
    "# Run the next cell only if you want to train the model. \n",
    "# If already trained, Skip to the next cell and directly load the model."
   ]
  },
  {
   "cell_type": "code",
   "execution_count": 2,
   "metadata": {
    "id": "pQVgxtersseC"
   },
   "outputs": [],
   "source": [
    "train_data = pd.read_csv(\"preprocessed_tokenized_training_data.csv\")\n",
    "train_data['concatenated_description'] = train_data['concatenated_description'].map(str)\n",
    "train_data_idf = train_data.copy()"
   ]
  },
  {
   "cell_type": "code",
   "execution_count": 3,
   "metadata": {},
   "outputs": [
    {
     "data": {
      "text/html": [
       "<div>\n",
       "<style scoped>\n",
       "    .dataframe tbody tr th:only-of-type {\n",
       "        vertical-align: middle;\n",
       "    }\n",
       "\n",
       "    .dataframe tbody tr th {\n",
       "        vertical-align: top;\n",
       "    }\n",
       "\n",
       "    .dataframe thead th {\n",
       "        text-align: right;\n",
       "    }\n",
       "</style>\n",
       "<table border=\"1\" class=\"dataframe\">\n",
       "  <thead>\n",
       "    <tr style=\"text-align: right;\">\n",
       "      <th></th>\n",
       "      <th>Unnamed: 0</th>\n",
       "      <th>train_id</th>\n",
       "      <th>item_condition_id</th>\n",
       "      <th>price</th>\n",
       "      <th>shipping</th>\n",
       "      <th>concatenated_description</th>\n",
       "    </tr>\n",
       "  </thead>\n",
       "  <tbody>\n",
       "    <tr>\n",
       "      <th>0</th>\n",
       "      <td>0</td>\n",
       "      <td>0</td>\n",
       "      <td>3</td>\n",
       "      <td>10.0</td>\n",
       "      <td>1</td>\n",
       "      <td>mlb cincinnati reds shirt size xl Not known de...</td>\n",
       "    </tr>\n",
       "    <tr>\n",
       "      <th>1</th>\n",
       "      <td>1</td>\n",
       "      <td>1</td>\n",
       "      <td>3</td>\n",
       "      <td>52.0</td>\n",
       "      <td>0</td>\n",
       "      <td>razer blackwidow chroma keyboard Razer keyboar...</td>\n",
       "    </tr>\n",
       "    <tr>\n",
       "      <th>2</th>\n",
       "      <td>2</td>\n",
       "      <td>2</td>\n",
       "      <td>1</td>\n",
       "      <td>10.0</td>\n",
       "      <td>1</td>\n",
       "      <td>avaviv blouse Target adorable top hint lace ke...</td>\n",
       "    </tr>\n",
       "    <tr>\n",
       "      <th>3</th>\n",
       "      <td>3</td>\n",
       "      <td>3</td>\n",
       "      <td>1</td>\n",
       "      <td>35.0</td>\n",
       "      <td>1</td>\n",
       "      <td>leather horse statues Not known new tags leath...</td>\n",
       "    </tr>\n",
       "    <tr>\n",
       "      <th>4</th>\n",
       "      <td>4</td>\n",
       "      <td>4</td>\n",
       "      <td>1</td>\n",
       "      <td>44.0</td>\n",
       "      <td>0</td>\n",
       "      <td>24k gold plated rose Not known complete certif...</td>\n",
       "    </tr>\n",
       "    <tr>\n",
       "      <th>...</th>\n",
       "      <td>...</td>\n",
       "      <td>...</td>\n",
       "      <td>...</td>\n",
       "      <td>...</td>\n",
       "      <td>...</td>\n",
       "      <td>...</td>\n",
       "    </tr>\n",
       "    <tr>\n",
       "      <th>1481656</th>\n",
       "      <td>1481656</td>\n",
       "      <td>1482530</td>\n",
       "      <td>2</td>\n",
       "      <td>20.0</td>\n",
       "      <td>1</td>\n",
       "      <td>free people inspired dress Free People lace sa...</td>\n",
       "    </tr>\n",
       "    <tr>\n",
       "      <th>1481657</th>\n",
       "      <td>1481657</td>\n",
       "      <td>1482531</td>\n",
       "      <td>2</td>\n",
       "      <td>14.0</td>\n",
       "      <td>0</td>\n",
       "      <td>little mermaid handmade dress Disney little me...</td>\n",
       "    </tr>\n",
       "    <tr>\n",
       "      <th>1481658</th>\n",
       "      <td>1481658</td>\n",
       "      <td>1482532</td>\n",
       "      <td>2</td>\n",
       "      <td>12.0</td>\n",
       "      <td>0</td>\n",
       "      <td>21 day fix containers eating plan Not known us...</td>\n",
       "    </tr>\n",
       "    <tr>\n",
       "      <th>1481659</th>\n",
       "      <td>1481659</td>\n",
       "      <td>1482533</td>\n",
       "      <td>3</td>\n",
       "      <td>45.0</td>\n",
       "      <td>1</td>\n",
       "      <td>world markets lanterns Not known 2 one see 2 r...</td>\n",
       "    </tr>\n",
       "    <tr>\n",
       "      <th>1481660</th>\n",
       "      <td>1481660</td>\n",
       "      <td>1482534</td>\n",
       "      <td>1</td>\n",
       "      <td>22.0</td>\n",
       "      <td>0</td>\n",
       "      <td>brand new lux de ville wallet Not known new ta...</td>\n",
       "    </tr>\n",
       "  </tbody>\n",
       "</table>\n",
       "<p>1481661 rows × 6 columns</p>\n",
       "</div>"
      ],
      "text/plain": [
       "         Unnamed: 0  train_id  item_condition_id  price  shipping  \\\n",
       "0                 0         0                  3   10.0         1   \n",
       "1                 1         1                  3   52.0         0   \n",
       "2                 2         2                  1   10.0         1   \n",
       "3                 3         3                  1   35.0         1   \n",
       "4                 4         4                  1   44.0         0   \n",
       "...             ...       ...                ...    ...       ...   \n",
       "1481656     1481656   1482530                  2   20.0         1   \n",
       "1481657     1481657   1482531                  2   14.0         0   \n",
       "1481658     1481658   1482532                  2   12.0         0   \n",
       "1481659     1481659   1482533                  3   45.0         1   \n",
       "1481660     1481660   1482534                  1   22.0         0   \n",
       "\n",
       "                                  concatenated_description  \n",
       "0        mlb cincinnati reds shirt size xl Not known de...  \n",
       "1        razer blackwidow chroma keyboard Razer keyboar...  \n",
       "2        avaviv blouse Target adorable top hint lace ke...  \n",
       "3        leather horse statues Not known new tags leath...  \n",
       "4        24k gold plated rose Not known complete certif...  \n",
       "...                                                    ...  \n",
       "1481656  free people inspired dress Free People lace sa...  \n",
       "1481657  little mermaid handmade dress Disney little me...  \n",
       "1481658  21 day fix containers eating plan Not known us...  \n",
       "1481659  world markets lanterns Not known 2 one see 2 r...  \n",
       "1481660  brand new lux de ville wallet Not known new ta...  \n",
       "\n",
       "[1481661 rows x 6 columns]"
      ]
     },
     "execution_count": 3,
     "metadata": {},
     "output_type": "execute_result"
    }
   ],
   "source": [
    "train_data"
   ]
  },
  {
   "cell_type": "code",
   "execution_count": 3,
   "metadata": {
    "id": "GInA3QoeJl9c"
   },
   "outputs": [],
   "source": [
    "train_data['concatenated_description'] = train_data['concatenated_description'].apply(gensim.utils.simple_preprocess)"
   ]
  },
  {
   "cell_type": "code",
   "execution_count": 4,
   "metadata": {
    "id": "QpwHNf5dJ1Sv"
   },
   "outputs": [
    {
     "name": "stdout",
     "output_type": "stream",
     "text": [
      "Time to build vocab for Model-2: 18.39 mins\n"
     ]
    }
   ],
   "source": [
    "cores = multiprocessing.cpu_count()\n",
    "\n",
    "# Build the Word2Vec model\n",
    "# Continous bag of words\n",
    "# Train the Word2Vec model\n",
    "\n",
    "model2 = Word2Vec(vector_size=200, window=5, min_count=1, sg=0, workers=cores-1)\n",
    "model2.build_vocab(train_data['concatenated_description'], progress_per=1000)\n",
    "t = time.time()\n",
    "model2.train(train_data['concatenated_description'], total_examples=model2.corpus_count, epochs=20)\n",
    "print('Time to build vocab for Model-2: {} mins'.format(round((time.time() - t) / 60, 2)))\n"
   ]
  },
  {
   "cell_type": "code",
   "execution_count": 5,
   "metadata": {
    "id": "jIy1sBOEOyu7"
   },
   "outputs": [],
   "source": [
    "model2.save(\"word2vec_cbow_model\")"
   ]
  },
  {
   "cell_type": "markdown",
   "metadata": {},
   "source": [
    "# One can directly load the model from here instead of training the models again."
   ]
  },
  {
   "cell_type": "code",
   "execution_count": null,
   "metadata": {
    "colab": {
     "base_uri": "https://localhost:8080/"
    },
    "id": "sYAkgFhiOytT",
    "outputId": "d42bb6bc-14be-4a56-c6e5-8ca71172fd27"
   },
   "outputs": [],
   "source": [
    "#Loading a pretrained model\n",
    "\n",
    "model2 = Word2Vec.load(\"word2vec_cbow_model\")\n"
   ]
  },
  {
   "cell_type": "code",
   "execution_count": 6,
   "metadata": {},
   "outputs": [],
   "source": [
    "def avg_word2vec2(doc):\n",
    "    return np.mean([model2.wv[word] for word in doc if word in model2.wv.index_to_key], axis=0)"
   ]
  },
  {
   "cell_type": "code",
   "execution_count": 8,
   "metadata": {},
   "outputs": [],
   "source": [
    "train_data_model2 = train_data.copy()\n",
    "\n",
    "series = train_data_model2.concatenated_description.apply(avg_word2vec2)\n",
    "\n",
    "df = pd.DataFrame(series.apply(pd.Series))\n",
    "\n",
    "train_data_model2 = pd.concat([train_data_model2, df], axis=1)\n",
    "\n",
    "train_data_model2 = train_data_model2.drop(['concatenated_description'],axis=1)"
   ]
  },
  {
   "cell_type": "code",
   "execution_count": null,
   "metadata": {},
   "outputs": [],
   "source": [
    "train_data_model2.to_csv('avgword2vec_cbow.csv')"
   ]
  },
  {
   "cell_type": "code",
   "execution_count": 4,
   "metadata": {},
   "outputs": [],
   "source": [
    "train_data_model2 = pd.read_csv('avgword2vec_cbow.csv')"
   ]
  },
  {
   "cell_type": "code",
   "execution_count": 5,
   "metadata": {},
   "outputs": [
    {
     "data": {
      "text/plain": [
       "Index(['Unnamed: 0.1', 'Unnamed: 0', 'train_id', 'item_condition_id', 'price',\n",
       "       'shipping', '0', '1', '2', '3',\n",
       "       ...\n",
       "       '190', '191', '192', '193', '194', '195', '196', '197', '198', '199'],\n",
       "      dtype='object', length=206)"
      ]
     },
     "execution_count": 5,
     "metadata": {},
     "output_type": "execute_result"
    }
   ],
   "source": [
    "train_data_model2.columns"
   ]
  },
  {
   "cell_type": "code",
   "execution_count": 6,
   "metadata": {},
   "outputs": [],
   "source": [
    "train_data_model2.drop(columns=['Unnamed: 0.1', 'Unnamed: 0', 'train_id'], inplace=True)"
   ]
  },
  {
   "cell_type": "code",
   "execution_count": 7,
   "metadata": {},
   "outputs": [
    {
     "data": {
      "text/html": [
       "<div>\n",
       "<style scoped>\n",
       "    .dataframe tbody tr th:only-of-type {\n",
       "        vertical-align: middle;\n",
       "    }\n",
       "\n",
       "    .dataframe tbody tr th {\n",
       "        vertical-align: top;\n",
       "    }\n",
       "\n",
       "    .dataframe thead th {\n",
       "        text-align: right;\n",
       "    }\n",
       "</style>\n",
       "<table border=\"1\" class=\"dataframe\">\n",
       "  <thead>\n",
       "    <tr style=\"text-align: right;\">\n",
       "      <th></th>\n",
       "      <th>item_condition_id</th>\n",
       "      <th>price</th>\n",
       "      <th>shipping</th>\n",
       "      <th>0</th>\n",
       "      <th>1</th>\n",
       "      <th>2</th>\n",
       "      <th>3</th>\n",
       "      <th>4</th>\n",
       "      <th>5</th>\n",
       "      <th>6</th>\n",
       "      <th>...</th>\n",
       "      <th>190</th>\n",
       "      <th>191</th>\n",
       "      <th>192</th>\n",
       "      <th>193</th>\n",
       "      <th>194</th>\n",
       "      <th>195</th>\n",
       "      <th>196</th>\n",
       "      <th>197</th>\n",
       "      <th>198</th>\n",
       "      <th>199</th>\n",
       "    </tr>\n",
       "  </thead>\n",
       "  <tbody>\n",
       "    <tr>\n",
       "      <th>0</th>\n",
       "      <td>2</td>\n",
       "      <td>8.0</td>\n",
       "      <td>1</td>\n",
       "      <td>-0.100559</td>\n",
       "      <td>-0.614330</td>\n",
       "      <td>0.208602</td>\n",
       "      <td>0.571966</td>\n",
       "      <td>-0.131203</td>\n",
       "      <td>0.016526</td>\n",
       "      <td>0.608419</td>\n",
       "      <td>...</td>\n",
       "      <td>-0.075749</td>\n",
       "      <td>0.193744</td>\n",
       "      <td>0.494159</td>\n",
       "      <td>-0.073508</td>\n",
       "      <td>0.494414</td>\n",
       "      <td>-0.169989</td>\n",
       "      <td>0.131777</td>\n",
       "      <td>0.145828</td>\n",
       "      <td>0.024475</td>\n",
       "      <td>-0.127633</td>\n",
       "    </tr>\n",
       "    <tr>\n",
       "      <th>1</th>\n",
       "      <td>3</td>\n",
       "      <td>14.0</td>\n",
       "      <td>0</td>\n",
       "      <td>-0.329170</td>\n",
       "      <td>-0.350506</td>\n",
       "      <td>0.272558</td>\n",
       "      <td>0.105843</td>\n",
       "      <td>1.208020</td>\n",
       "      <td>1.528792</td>\n",
       "      <td>-0.091454</td>\n",
       "      <td>...</td>\n",
       "      <td>-1.339325</td>\n",
       "      <td>0.835479</td>\n",
       "      <td>0.271060</td>\n",
       "      <td>0.437964</td>\n",
       "      <td>1.127263</td>\n",
       "      <td>1.099126</td>\n",
       "      <td>-0.569234</td>\n",
       "      <td>-0.982572</td>\n",
       "      <td>-0.126194</td>\n",
       "      <td>-0.116404</td>\n",
       "    </tr>\n",
       "    <tr>\n",
       "      <th>2</th>\n",
       "      <td>1</td>\n",
       "      <td>25.0</td>\n",
       "      <td>1</td>\n",
       "      <td>-0.240003</td>\n",
       "      <td>-0.041858</td>\n",
       "      <td>0.145329</td>\n",
       "      <td>0.452647</td>\n",
       "      <td>0.760089</td>\n",
       "      <td>0.097341</td>\n",
       "      <td>0.452785</td>\n",
       "      <td>...</td>\n",
       "      <td>0.418078</td>\n",
       "      <td>0.219362</td>\n",
       "      <td>0.174552</td>\n",
       "      <td>-0.024960</td>\n",
       "      <td>-0.002166</td>\n",
       "      <td>0.013162</td>\n",
       "      <td>-0.374551</td>\n",
       "      <td>-0.620355</td>\n",
       "      <td>0.631266</td>\n",
       "      <td>-0.212377</td>\n",
       "    </tr>\n",
       "    <tr>\n",
       "      <th>3</th>\n",
       "      <td>3</td>\n",
       "      <td>25.0</td>\n",
       "      <td>0</td>\n",
       "      <td>-0.101531</td>\n",
       "      <td>-0.345377</td>\n",
       "      <td>-0.117154</td>\n",
       "      <td>-0.361317</td>\n",
       "      <td>-0.764579</td>\n",
       "      <td>0.917608</td>\n",
       "      <td>0.777097</td>\n",
       "      <td>...</td>\n",
       "      <td>-0.010613</td>\n",
       "      <td>0.054686</td>\n",
       "      <td>0.057820</td>\n",
       "      <td>1.474908</td>\n",
       "      <td>0.728149</td>\n",
       "      <td>1.006546</td>\n",
       "      <td>-0.213868</td>\n",
       "      <td>0.185430</td>\n",
       "      <td>-0.457993</td>\n",
       "      <td>-0.727977</td>\n",
       "    </tr>\n",
       "    <tr>\n",
       "      <th>4</th>\n",
       "      <td>1</td>\n",
       "      <td>12.0</td>\n",
       "      <td>1</td>\n",
       "      <td>0.820777</td>\n",
       "      <td>-0.600387</td>\n",
       "      <td>-0.174789</td>\n",
       "      <td>-0.790316</td>\n",
       "      <td>0.611780</td>\n",
       "      <td>0.271854</td>\n",
       "      <td>0.250769</td>\n",
       "      <td>...</td>\n",
       "      <td>-0.093859</td>\n",
       "      <td>0.078621</td>\n",
       "      <td>-0.048399</td>\n",
       "      <td>-0.540433</td>\n",
       "      <td>0.852686</td>\n",
       "      <td>0.234550</td>\n",
       "      <td>-0.283534</td>\n",
       "      <td>-0.156189</td>\n",
       "      <td>0.549295</td>\n",
       "      <td>-0.314060</td>\n",
       "    </tr>\n",
       "    <tr>\n",
       "      <th>...</th>\n",
       "      <td>...</td>\n",
       "      <td>...</td>\n",
       "      <td>...</td>\n",
       "      <td>...</td>\n",
       "      <td>...</td>\n",
       "      <td>...</td>\n",
       "      <td>...</td>\n",
       "      <td>...</td>\n",
       "      <td>...</td>\n",
       "      <td>...</td>\n",
       "      <td>...</td>\n",
       "      <td>...</td>\n",
       "      <td>...</td>\n",
       "      <td>...</td>\n",
       "      <td>...</td>\n",
       "      <td>...</td>\n",
       "      <td>...</td>\n",
       "      <td>...</td>\n",
       "      <td>...</td>\n",
       "      <td>...</td>\n",
       "      <td>...</td>\n",
       "    </tr>\n",
       "    <tr>\n",
       "      <th>370407</th>\n",
       "      <td>1</td>\n",
       "      <td>20.0</td>\n",
       "      <td>1</td>\n",
       "      <td>0.484753</td>\n",
       "      <td>0.030433</td>\n",
       "      <td>-0.842793</td>\n",
       "      <td>-0.549632</td>\n",
       "      <td>0.861718</td>\n",
       "      <td>1.395888</td>\n",
       "      <td>1.131525</td>\n",
       "      <td>...</td>\n",
       "      <td>-0.391027</td>\n",
       "      <td>0.211749</td>\n",
       "      <td>-0.072331</td>\n",
       "      <td>1.241811</td>\n",
       "      <td>2.145595</td>\n",
       "      <td>1.513619</td>\n",
       "      <td>1.109203</td>\n",
       "      <td>-1.061759</td>\n",
       "      <td>0.059616</td>\n",
       "      <td>-1.878718</td>\n",
       "    </tr>\n",
       "    <tr>\n",
       "      <th>370408</th>\n",
       "      <td>1</td>\n",
       "      <td>44.0</td>\n",
       "      <td>0</td>\n",
       "      <td>-0.989117</td>\n",
       "      <td>-0.492069</td>\n",
       "      <td>-0.002195</td>\n",
       "      <td>0.631189</td>\n",
       "      <td>1.291212</td>\n",
       "      <td>-0.071031</td>\n",
       "      <td>0.779076</td>\n",
       "      <td>...</td>\n",
       "      <td>0.386589</td>\n",
       "      <td>0.272975</td>\n",
       "      <td>-0.883474</td>\n",
       "      <td>-0.305047</td>\n",
       "      <td>-1.207003</td>\n",
       "      <td>0.288548</td>\n",
       "      <td>-1.372537</td>\n",
       "      <td>-0.139790</td>\n",
       "      <td>1.139007</td>\n",
       "      <td>0.010722</td>\n",
       "    </tr>\n",
       "    <tr>\n",
       "      <th>370409</th>\n",
       "      <td>3</td>\n",
       "      <td>15.0</td>\n",
       "      <td>1</td>\n",
       "      <td>0.183705</td>\n",
       "      <td>0.060849</td>\n",
       "      <td>0.345536</td>\n",
       "      <td>0.088263</td>\n",
       "      <td>0.149190</td>\n",
       "      <td>0.014507</td>\n",
       "      <td>0.373666</td>\n",
       "      <td>...</td>\n",
       "      <td>-0.325529</td>\n",
       "      <td>0.767687</td>\n",
       "      <td>0.523542</td>\n",
       "      <td>0.516035</td>\n",
       "      <td>0.218952</td>\n",
       "      <td>0.475278</td>\n",
       "      <td>-0.767223</td>\n",
       "      <td>0.097173</td>\n",
       "      <td>-0.474679</td>\n",
       "      <td>-0.750847</td>\n",
       "    </tr>\n",
       "    <tr>\n",
       "      <th>370410</th>\n",
       "      <td>1</td>\n",
       "      <td>16.0</td>\n",
       "      <td>0</td>\n",
       "      <td>-0.263113</td>\n",
       "      <td>-0.582247</td>\n",
       "      <td>0.410359</td>\n",
       "      <td>-0.201431</td>\n",
       "      <td>0.439368</td>\n",
       "      <td>1.350481</td>\n",
       "      <td>0.880811</td>\n",
       "      <td>...</td>\n",
       "      <td>-0.339725</td>\n",
       "      <td>0.607348</td>\n",
       "      <td>-0.159939</td>\n",
       "      <td>0.906151</td>\n",
       "      <td>1.756508</td>\n",
       "      <td>0.985768</td>\n",
       "      <td>0.587361</td>\n",
       "      <td>-0.796640</td>\n",
       "      <td>-0.361518</td>\n",
       "      <td>-1.248246</td>\n",
       "    </tr>\n",
       "    <tr>\n",
       "      <th>370411</th>\n",
       "      <td>1</td>\n",
       "      <td>17.0</td>\n",
       "      <td>1</td>\n",
       "      <td>-1.829921</td>\n",
       "      <td>-0.804902</td>\n",
       "      <td>0.084474</td>\n",
       "      <td>0.184616</td>\n",
       "      <td>0.737504</td>\n",
       "      <td>1.492387</td>\n",
       "      <td>-0.328706</td>\n",
       "      <td>...</td>\n",
       "      <td>0.602713</td>\n",
       "      <td>-0.324386</td>\n",
       "      <td>-0.225616</td>\n",
       "      <td>0.208637</td>\n",
       "      <td>-0.016791</td>\n",
       "      <td>-0.252122</td>\n",
       "      <td>-0.543555</td>\n",
       "      <td>0.542459</td>\n",
       "      <td>-0.926188</td>\n",
       "      <td>-1.731979</td>\n",
       "    </tr>\n",
       "  </tbody>\n",
       "</table>\n",
       "<p>370412 rows × 203 columns</p>\n",
       "</div>"
      ],
      "text/plain": [
       "        item_condition_id  price  shipping         0         1         2  \\\n",
       "0                       2    8.0         1 -0.100559 -0.614330  0.208602   \n",
       "1                       3   14.0         0 -0.329170 -0.350506  0.272558   \n",
       "2                       1   25.0         1 -0.240003 -0.041858  0.145329   \n",
       "3                       3   25.0         0 -0.101531 -0.345377 -0.117154   \n",
       "4                       1   12.0         1  0.820777 -0.600387 -0.174789   \n",
       "...                   ...    ...       ...       ...       ...       ...   \n",
       "370407                  1   20.0         1  0.484753  0.030433 -0.842793   \n",
       "370408                  1   44.0         0 -0.989117 -0.492069 -0.002195   \n",
       "370409                  3   15.0         1  0.183705  0.060849  0.345536   \n",
       "370410                  1   16.0         0 -0.263113 -0.582247  0.410359   \n",
       "370411                  1   17.0         1 -1.829921 -0.804902  0.084474   \n",
       "\n",
       "               3         4         5         6  ...       190       191  \\\n",
       "0       0.571966 -0.131203  0.016526  0.608419  ... -0.075749  0.193744   \n",
       "1       0.105843  1.208020  1.528792 -0.091454  ... -1.339325  0.835479   \n",
       "2       0.452647  0.760089  0.097341  0.452785  ...  0.418078  0.219362   \n",
       "3      -0.361317 -0.764579  0.917608  0.777097  ... -0.010613  0.054686   \n",
       "4      -0.790316  0.611780  0.271854  0.250769  ... -0.093859  0.078621   \n",
       "...          ...       ...       ...       ...  ...       ...       ...   \n",
       "370407 -0.549632  0.861718  1.395888  1.131525  ... -0.391027  0.211749   \n",
       "370408  0.631189  1.291212 -0.071031  0.779076  ...  0.386589  0.272975   \n",
       "370409  0.088263  0.149190  0.014507  0.373666  ... -0.325529  0.767687   \n",
       "370410 -0.201431  0.439368  1.350481  0.880811  ... -0.339725  0.607348   \n",
       "370411  0.184616  0.737504  1.492387 -0.328706  ...  0.602713 -0.324386   \n",
       "\n",
       "             192       193       194       195       196       197       198  \\\n",
       "0       0.494159 -0.073508  0.494414 -0.169989  0.131777  0.145828  0.024475   \n",
       "1       0.271060  0.437964  1.127263  1.099126 -0.569234 -0.982572 -0.126194   \n",
       "2       0.174552 -0.024960 -0.002166  0.013162 -0.374551 -0.620355  0.631266   \n",
       "3       0.057820  1.474908  0.728149  1.006546 -0.213868  0.185430 -0.457993   \n",
       "4      -0.048399 -0.540433  0.852686  0.234550 -0.283534 -0.156189  0.549295   \n",
       "...          ...       ...       ...       ...       ...       ...       ...   \n",
       "370407 -0.072331  1.241811  2.145595  1.513619  1.109203 -1.061759  0.059616   \n",
       "370408 -0.883474 -0.305047 -1.207003  0.288548 -1.372537 -0.139790  1.139007   \n",
       "370409  0.523542  0.516035  0.218952  0.475278 -0.767223  0.097173 -0.474679   \n",
       "370410 -0.159939  0.906151  1.756508  0.985768  0.587361 -0.796640 -0.361518   \n",
       "370411 -0.225616  0.208637 -0.016791 -0.252122 -0.543555  0.542459 -0.926188   \n",
       "\n",
       "             199  \n",
       "0      -0.127633  \n",
       "1      -0.116404  \n",
       "2      -0.212377  \n",
       "3      -0.727977  \n",
       "4      -0.314060  \n",
       "...          ...  \n",
       "370407 -1.878718  \n",
       "370408  0.010722  \n",
       "370409 -0.750847  \n",
       "370410 -1.248246  \n",
       "370411 -1.731979  \n",
       "\n",
       "[370412 rows x 203 columns]"
      ]
     },
     "execution_count": 7,
     "metadata": {},
     "output_type": "execute_result"
    }
   ],
   "source": [
    "train_data_model2"
   ]
  },
  {
   "cell_type": "markdown",
   "metadata": {},
   "source": [
    "## \"avgword2vec_sg.csv\" --> Will be used for \"train_test_split\", Contains 0.03 of entire dataset. \n",
    "## Generated from extracting dataset \"preprocessed_tokenized_training_data.csv\" and then applying \"word2vec_cbow_model\" on it."
   ]
  },
  {
   "cell_type": "markdown",
   "metadata": {},
   "source": [
    "# We've our dataset ready for the Model-2."
   ]
  },
  {
   "cell_type": "code",
   "execution_count": 8,
   "metadata": {},
   "outputs": [],
   "source": [
    "data = train_data_model2.copy()"
   ]
  },
  {
   "cell_type": "code",
   "execution_count": 9,
   "id": "a6e69f7a",
   "metadata": {},
   "outputs": [],
   "source": [
    "from sklearn.model_selection import train_test_split\n",
    "\n",
    "y = data['price']\n",
    "X = data.drop(columns=['price'])\n",
    "\n",
    "\n",
    "X_train, X_test, y_train, y_test = train_test_split(X, y, test_size=0.3)"
   ]
  },
  {
   "cell_type": "markdown",
   "metadata": {},
   "source": [
    "## Hyperparameter optimization using RandomizedSearchCV"
   ]
  },
  {
   "cell_type": "code",
   "execution_count": 11,
   "metadata": {},
   "outputs": [],
   "source": [
    "\n",
    "from sklearn.model_selection import RandomizedSearchCV"
   ]
  },
  {
   "cell_type": "code",
   "execution_count": 11,
   "metadata": {},
   "outputs": [
    {
     "name": "stdout",
     "output_type": "stream",
     "text": [
      "Fitting 5 folds for each of 10 candidates, totalling 50 fits\n",
      "[CV 1/5] END activation=relu, alpha=0.0005, early_stopping=True, hidden_layer_sizes=(50,), learning_rate=invscaling, max_iter=1000, random_state=42, solver=lbfgs, validation_fraction=0.2;, score=0.245 total time= 7.8min\n",
      "[CV 2/5] END activation=relu, alpha=0.0005, early_stopping=True, hidden_layer_sizes=(50,), learning_rate=invscaling, max_iter=1000, random_state=42, solver=lbfgs, validation_fraction=0.2;, score=0.036 total time= 7.7min\n",
      "[CV 3/5] END activation=relu, alpha=0.0005, early_stopping=True, hidden_layer_sizes=(50,), learning_rate=invscaling, max_iter=1000, random_state=42, solver=lbfgs, validation_fraction=0.2;, score=0.168 total time= 7.9min\n",
      "[CV 4/5] END activation=relu, alpha=0.0005, early_stopping=True, hidden_layer_sizes=(50,), learning_rate=invscaling, max_iter=1000, random_state=42, solver=lbfgs, validation_fraction=0.2;, score=-0.183 total time= 7.7min\n",
      "[CV 5/5] END activation=relu, alpha=0.0005, early_stopping=True, hidden_layer_sizes=(50,), learning_rate=invscaling, max_iter=1000, random_state=42, solver=lbfgs, validation_fraction=0.2;, score=0.092 total time= 7.9min\n",
      "[CV 1/5] END activation=relu, alpha=5e-05, early_stopping=True, hidden_layer_sizes=(50,), learning_rate=adaptive, max_iter=1000, random_state=6, solver=lbfgs, validation_fraction=0.2;, score=0.071 total time= 7.6min\n",
      "[CV 2/5] END activation=relu, alpha=5e-05, early_stopping=True, hidden_layer_sizes=(50,), learning_rate=adaptive, max_iter=1000, random_state=6, solver=lbfgs, validation_fraction=0.2;, score=0.102 total time= 8.0min\n",
      "[CV 3/5] END activation=relu, alpha=5e-05, early_stopping=True, hidden_layer_sizes=(50,), learning_rate=adaptive, max_iter=1000, random_state=6, solver=lbfgs, validation_fraction=0.2;, score=0.122 total time= 7.9min\n",
      "[CV 4/5] END activation=relu, alpha=5e-05, early_stopping=True, hidden_layer_sizes=(50,), learning_rate=adaptive, max_iter=1000, random_state=6, solver=lbfgs, validation_fraction=0.2;, score=-0.078 total time= 7.7min\n",
      "[CV 5/5] END activation=relu, alpha=5e-05, early_stopping=True, hidden_layer_sizes=(50,), learning_rate=adaptive, max_iter=1000, random_state=6, solver=lbfgs, validation_fraction=0.2;, score=-0.196 total time= 8.1min\n",
      "[CV 1/5] END activation=relu, alpha=0.0005, early_stopping=True, hidden_layer_sizes=(100, 50, 25), learning_rate=adaptive, max_iter=500, random_state=7, solver=lbfgs, validation_fraction=0.2;, score=0.312 total time=11.4min\n",
      "[CV 2/5] END activation=relu, alpha=0.0005, early_stopping=True, hidden_layer_sizes=(100, 50, 25), learning_rate=adaptive, max_iter=500, random_state=7, solver=lbfgs, validation_fraction=0.2;, score=0.281 total time=11.1min\n",
      "[CV 3/5] END activation=relu, alpha=0.0005, early_stopping=True, hidden_layer_sizes=(100, 50, 25), learning_rate=adaptive, max_iter=500, random_state=7, solver=lbfgs, validation_fraction=0.2;, score=0.277 total time=10.8min\n",
      "[CV 4/5] END activation=relu, alpha=0.0005, early_stopping=True, hidden_layer_sizes=(100, 50, 25), learning_rate=adaptive, max_iter=500, random_state=7, solver=lbfgs, validation_fraction=0.2;, score=0.355 total time=10.9min\n",
      "[CV 5/5] END activation=relu, alpha=0.0005, early_stopping=True, hidden_layer_sizes=(100, 50, 25), learning_rate=adaptive, max_iter=500, random_state=7, solver=lbfgs, validation_fraction=0.2;, score=0.345 total time=11.2min\n",
      "[CV 1/5] END activation=relu, alpha=0.005, early_stopping=True, hidden_layer_sizes=(50, 50), learning_rate=constant, max_iter=2000, random_state=7, solver=lbfgs, validation_fraction=0.2;, score=-0.025 total time=25.1min\n",
      "[CV 2/5] END activation=relu, alpha=0.005, early_stopping=True, hidden_layer_sizes=(50, 50), learning_rate=constant, max_iter=2000, random_state=7, solver=lbfgs, validation_fraction=0.2;, score=-0.007 total time=25.2min\n",
      "[CV 3/5] END activation=relu, alpha=0.005, early_stopping=True, hidden_layer_sizes=(50, 50), learning_rate=constant, max_iter=2000, random_state=7, solver=lbfgs, validation_fraction=0.2;, score=-0.046 total time=25.6min\n",
      "[CV 4/5] END activation=relu, alpha=0.005, early_stopping=True, hidden_layer_sizes=(50, 50), learning_rate=constant, max_iter=2000, random_state=7, solver=lbfgs, validation_fraction=0.2;, score=-0.294 total time=25.2min\n",
      "[CV 5/5] END activation=relu, alpha=0.005, early_stopping=True, hidden_layer_sizes=(50, 50), learning_rate=constant, max_iter=2000, random_state=7, solver=lbfgs, validation_fraction=0.2;, score=-0.069 total time=26.2min\n",
      "[CV 1/5] END activation=relu, alpha=5e-05, early_stopping=True, hidden_layer_sizes=(100,), learning_rate=constant, max_iter=2000, random_state=6, solver=adam, validation_fraction=0.2;, score=0.416 total time= 1.7min\n",
      "[CV 2/5] END activation=relu, alpha=5e-05, early_stopping=True, hidden_layer_sizes=(100,), learning_rate=constant, max_iter=2000, random_state=6, solver=adam, validation_fraction=0.2;, score=0.364 total time= 1.5min\n",
      "[CV 3/5] END activation=relu, alpha=5e-05, early_stopping=True, hidden_layer_sizes=(100,), learning_rate=constant, max_iter=2000, random_state=6, solver=adam, validation_fraction=0.2;, score=0.358 total time= 1.7min\n",
      "[CV 4/5] END activation=relu, alpha=5e-05, early_stopping=True, hidden_layer_sizes=(100,), learning_rate=constant, max_iter=2000, random_state=6, solver=adam, validation_fraction=0.2;, score=0.415 total time= 2.7min\n",
      "[CV 5/5] END activation=relu, alpha=5e-05, early_stopping=True, hidden_layer_sizes=(100,), learning_rate=constant, max_iter=2000, random_state=6, solver=adam, validation_fraction=0.2;, score=0.373 total time= 2.5min\n",
      "[CV 1/5] END activation=relu, alpha=5e-05, early_stopping=True, hidden_layer_sizes=(50, 50), learning_rate=adaptive, max_iter=500, random_state=6, solver=adam, validation_fraction=0.2;, score=0.423 total time=  59.2s\n",
      "[CV 2/5] END activation=relu, alpha=5e-05, early_stopping=True, hidden_layer_sizes=(50, 50), learning_rate=adaptive, max_iter=500, random_state=6, solver=adam, validation_fraction=0.2;, score=0.376 total time= 1.1min\n",
      "[CV 3/5] END activation=relu, alpha=5e-05, early_stopping=True, hidden_layer_sizes=(50, 50), learning_rate=adaptive, max_iter=500, random_state=6, solver=adam, validation_fraction=0.2;, score=0.352 total time= 1.1min\n",
      "[CV 4/5] END activation=relu, alpha=5e-05, early_stopping=True, hidden_layer_sizes=(50, 50), learning_rate=adaptive, max_iter=500, random_state=6, solver=adam, validation_fraction=0.2;, score=0.406 total time= 1.0min\n",
      "[CV 5/5] END activation=relu, alpha=5e-05, early_stopping=True, hidden_layer_sizes=(50, 50), learning_rate=adaptive, max_iter=500, random_state=6, solver=adam, validation_fraction=0.2;, score=0.376 total time= 1.0min\n",
      "[CV 1/5] END activation=logistic, alpha=0.0001, early_stopping=True, hidden_layer_sizes=(100, 50, 25), learning_rate=adaptive, max_iter=500, random_state=7, solver=adam, validation_fraction=0.2;, score=0.412 total time= 3.4min\n",
      "[CV 2/5] END activation=logistic, alpha=0.0001, early_stopping=True, hidden_layer_sizes=(100, 50, 25), learning_rate=adaptive, max_iter=500, random_state=7, solver=adam, validation_fraction=0.2;, score=0.358 total time= 3.9min\n",
      "[CV 3/5] END activation=logistic, alpha=0.0001, early_stopping=True, hidden_layer_sizes=(100, 50, 25), learning_rate=adaptive, max_iter=500, random_state=7, solver=adam, validation_fraction=0.2;, score=0.365 total time= 3.6min\n",
      "[CV 4/5] END activation=logistic, alpha=0.0001, early_stopping=True, hidden_layer_sizes=(100, 50, 25), learning_rate=adaptive, max_iter=500, random_state=7, solver=adam, validation_fraction=0.2;, score=0.417 total time= 3.4min\n",
      "[CV 5/5] END activation=logistic, alpha=0.0001, early_stopping=True, hidden_layer_sizes=(100, 50, 25), learning_rate=adaptive, max_iter=500, random_state=7, solver=adam, validation_fraction=0.2;, score=0.356 total time= 3.1min\n",
      "[CV 1/5] END activation=relu, alpha=5e-05, early_stopping=True, hidden_layer_sizes=(50, 50), learning_rate=adaptive, max_iter=500, random_state=42, solver=adam, validation_fraction=0.2;, score=0.418 total time= 1.0min\n",
      "[CV 2/5] END activation=relu, alpha=5e-05, early_stopping=True, hidden_layer_sizes=(50, 50), learning_rate=adaptive, max_iter=500, random_state=42, solver=adam, validation_fraction=0.2;, score=0.376 total time=  56.4s\n"
     ]
    },
    {
     "name": "stdout",
     "output_type": "stream",
     "text": [
      "[CV 3/5] END activation=relu, alpha=5e-05, early_stopping=True, hidden_layer_sizes=(50, 50), learning_rate=adaptive, max_iter=500, random_state=42, solver=adam, validation_fraction=0.2;, score=0.363 total time=  47.8s\n",
      "[CV 4/5] END activation=relu, alpha=5e-05, early_stopping=True, hidden_layer_sizes=(50, 50), learning_rate=adaptive, max_iter=500, random_state=42, solver=adam, validation_fraction=0.2;, score=0.418 total time=  58.3s\n",
      "[CV 5/5] END activation=relu, alpha=5e-05, early_stopping=True, hidden_layer_sizes=(50, 50), learning_rate=adaptive, max_iter=500, random_state=42, solver=adam, validation_fraction=0.2;, score=0.369 total time=  56.5s\n",
      "[CV 1/5] END activation=logistic, alpha=5e-05, early_stopping=True, hidden_layer_sizes=(100,), learning_rate=invscaling, max_iter=1000, random_state=7, solver=lbfgs, validation_fraction=0.2;, score=0.238 total time=29.6min\n",
      "[CV 2/5] END activation=logistic, alpha=5e-05, early_stopping=True, hidden_layer_sizes=(100,), learning_rate=invscaling, max_iter=1000, random_state=7, solver=lbfgs, validation_fraction=0.2;, score=0.223 total time=29.2min\n",
      "[CV 3/5] END activation=logistic, alpha=5e-05, early_stopping=True, hidden_layer_sizes=(100,), learning_rate=invscaling, max_iter=1000, random_state=7, solver=lbfgs, validation_fraction=0.2;, score=0.194 total time=29.1min\n",
      "[CV 4/5] END activation=logistic, alpha=5e-05, early_stopping=True, hidden_layer_sizes=(100,), learning_rate=invscaling, max_iter=1000, random_state=7, solver=lbfgs, validation_fraction=0.2;, score=0.215 total time=29.2min\n",
      "[CV 5/5] END activation=logistic, alpha=5e-05, early_stopping=True, hidden_layer_sizes=(100,), learning_rate=invscaling, max_iter=1000, random_state=7, solver=lbfgs, validation_fraction=0.2;, score=0.219 total time=29.3min\n",
      "[CV 1/5] END activation=tanh, alpha=0.0005, early_stopping=True, hidden_layer_sizes=(50,), learning_rate=constant, max_iter=2000, random_state=42, solver=lbfgs, validation_fraction=0.2;, score=0.272 total time=18.8min\n",
      "[CV 2/5] END activation=tanh, alpha=0.0005, early_stopping=True, hidden_layer_sizes=(50,), learning_rate=constant, max_iter=2000, random_state=42, solver=lbfgs, validation_fraction=0.2;, score=0.235 total time=20.1min\n",
      "[CV 3/5] END activation=tanh, alpha=0.0005, early_stopping=True, hidden_layer_sizes=(50,), learning_rate=constant, max_iter=2000, random_state=42, solver=lbfgs, validation_fraction=0.2;, score=0.199 total time=37.4min\n",
      "[CV 4/5] END activation=tanh, alpha=0.0005, early_stopping=True, hidden_layer_sizes=(50,), learning_rate=constant, max_iter=2000, random_state=42, solver=lbfgs, validation_fraction=0.2;, score=0.254 total time=18.6min\n",
      "[CV 5/5] END activation=tanh, alpha=0.0005, early_stopping=True, hidden_layer_sizes=(50,), learning_rate=constant, max_iter=2000, random_state=42, solver=lbfgs, validation_fraction=0.2;, score=0.241 total time=18.6min\n",
      "Best Hyperparameters: {'validation_fraction': 0.2, 'solver': 'adam', 'random_state': 42, 'max_iter': 500, 'learning_rate': 'adaptive', 'hidden_layer_sizes': (50, 50), 'early_stopping': True, 'alpha': 5e-05, 'activation': 'relu'}\n",
      "Mean Squared Error: 896.244683468908\n"
     ]
    }
   ],
   "source": [
    "# from scipy.stats import reciprocal\n",
    "model = MLPRegressor()\n",
    "\n",
    "param_dist = {\n",
    "    'hidden_layer_sizes': [(50,), (100,), (50, 50), (100, 50, 25)],\n",
    "    'max_iter' : [500, 1000, 2000],\n",
    "    'activation': ['relu', 'tanh','logistic'],\n",
    "    'alpha' : [0.00005, 0.005, 0.0005, 0.0001],\n",
    "    'solver':['lbfgs','adam'],\n",
    "    'random_state' : [6, 7, 42],\n",
    "     'early_stopping' : [True],\n",
    "     'validation_fraction' : [0.2],\n",
    "    'learning_rate': ['invscaling','constant', 'adaptive']\n",
    "}\n",
    "\n",
    "\n",
    "random_search = RandomizedSearchCV(estimator=model, param_distributions=param_dist, n_iter=10, cv=5, verbose=3)\n",
    "\n",
    "# Fit the data to perform random search\n",
    "random_search.fit(X_train, y_train)\n",
    "\n",
    "# Get the best hyperparameters and model\n",
    "best_params = random_search.best_params_\n",
    "best_model = random_search.best_estimator_\n",
    "\n",
    "# Print the best hyperparameters\n",
    "print(\"Best Hyperparameters:\", best_params)\n",
    "\n",
    "# Make predictions using the best model\n",
    "y_pred = best_model.predict(X_test)\n",
    "\n",
    "# Evaluate the model's performance\n",
    "mse = mean_squared_error(y_test, y_pred)\n",
    "print(\"Mean Squared Error:\", mse)\n"
   ]
  },
  {
   "cell_type": "code",
   "execution_count": 12,
   "metadata": {
    "scrolled": false
   },
   "outputs": [],
   "source": [
    "best_model = MLPRegressor(alpha=5e-05, early_stopping=True, hidden_layer_sizes=(50, 50),\n",
    "             learning_rate='adaptive', max_iter=500, random_state=42,\n",
    "             validation_fraction=0.2)"
   ]
  },
  {
   "cell_type": "markdown",
   "metadata": {},
   "source": [
    "# Multi-Layered Perceptron Model"
   ]
  },
  {
   "cell_type": "markdown",
   "id": "894a93d2",
   "metadata": {},
   "source": [
    "# KPCA Tuning"
   ]
  },
  {
   "cell_type": "code",
   "execution_count": 33,
   "id": "e13cabde",
   "metadata": {},
   "outputs": [
    {
     "data": {
      "image/png": "[encoded data removed]",
      "text/plain": [
       "<Figure size 640x480 with 1 Axes>"
      ]
     },
     "metadata": {},
     "output_type": "display_data"
    },
    {
     "data": {
      "text/plain": [
       "None"
      ]
     },
     "metadata": {},
     "output_type": "display_data"
    }
   ],
   "source": [
    "from sklearn.decomposition import KernelPCA\n",
    "kpca_test = KernelPCA()\n",
    "kpca_test = kpca_test.fit_transform(X_train)\n",
    "explained_variance = np.var(kpca_test, axis=0)\n",
    "explained_variance_ratio = explained_variance / np.sum(explained_variance)\n",
    "\n",
    "sns.set(style='whitegrid')\n",
    "plt.plot(np.cumsum(explained_variance_ratio))\n",
    "plt.xlabel('number of components')\n",
    "plt.ylabel('cumulative explained variance')\n",
    "display(plt.show())\n",
    "\n",
    "evr = explained_variance_ratio\n",
    "cvr = np.cumsum(explained_variance_ratio)"
   ]
  },
  {
   "cell_type": "code",
   "execution_count": 34,
   "metadata": {},
   "outputs": [
    {
     "data": {
      "text/html": [
       "<div>\n",
       "<style scoped>\n",
       "    .dataframe tbody tr th:only-of-type {\n",
       "        vertical-align: middle;\n",
       "    }\n",
       "\n",
       "    .dataframe tbody tr th {\n",
       "        vertical-align: top;\n",
       "    }\n",
       "\n",
       "    .dataframe thead th {\n",
       "        text-align: right;\n",
       "    }\n",
       "</style>\n",
       "<table border=\"1\" class=\"dataframe\">\n",
       "  <thead>\n",
       "    <tr style=\"text-align: right;\">\n",
       "      <th></th>\n",
       "      <th>Cumulative Variance Ratio</th>\n",
       "      <th>Explained Variance Ratio</th>\n",
       "    </tr>\n",
       "  </thead>\n",
       "  <tbody>\n",
       "    <tr>\n",
       "      <th>78</th>\n",
       "      <td>0.901335</td>\n",
       "      <td>0.001534</td>\n",
       "    </tr>\n",
       "    <tr>\n",
       "      <th>79</th>\n",
       "      <td>0.902856</td>\n",
       "      <td>0.001521</td>\n",
       "    </tr>\n",
       "    <tr>\n",
       "      <th>80</th>\n",
       "      <td>0.904359</td>\n",
       "      <td>0.001503</td>\n",
       "    </tr>\n",
       "    <tr>\n",
       "      <th>81</th>\n",
       "      <td>0.905842</td>\n",
       "      <td>0.001482</td>\n",
       "    </tr>\n",
       "    <tr>\n",
       "      <th>82</th>\n",
       "      <td>0.907310</td>\n",
       "      <td>0.001469</td>\n",
       "    </tr>\n",
       "    <tr>\n",
       "      <th>...</th>\n",
       "      <td>...</td>\n",
       "      <td>...</td>\n",
       "    </tr>\n",
       "    <tr>\n",
       "      <th>197</th>\n",
       "      <td>0.999251</td>\n",
       "      <td>0.000364</td>\n",
       "    </tr>\n",
       "    <tr>\n",
       "      <th>198</th>\n",
       "      <td>0.999594</td>\n",
       "      <td>0.000343</td>\n",
       "    </tr>\n",
       "    <tr>\n",
       "      <th>199</th>\n",
       "      <td>0.999918</td>\n",
       "      <td>0.000324</td>\n",
       "    </tr>\n",
       "    <tr>\n",
       "      <th>200</th>\n",
       "      <td>0.999971</td>\n",
       "      <td>0.000052</td>\n",
       "    </tr>\n",
       "    <tr>\n",
       "      <th>201</th>\n",
       "      <td>1.000000</td>\n",
       "      <td>0.000029</td>\n",
       "    </tr>\n",
       "  </tbody>\n",
       "</table>\n",
       "<p>124 rows × 2 columns</p>\n",
       "</div>"
      ],
      "text/plain": [
       "     Cumulative Variance Ratio  Explained Variance Ratio\n",
       "78                    0.901335                  0.001534\n",
       "79                    0.902856                  0.001521\n",
       "80                    0.904359                  0.001503\n",
       "81                    0.905842                  0.001482\n",
       "82                    0.907310                  0.001469\n",
       "..                         ...                       ...\n",
       "197                   0.999251                  0.000364\n",
       "198                   0.999594                  0.000343\n",
       "199                   0.999918                  0.000324\n",
       "200                   0.999971                  0.000052\n",
       "201                   1.000000                  0.000029\n",
       "\n",
       "[124 rows x 2 columns]"
      ]
     },
     "metadata": {},
     "output_type": "display_data"
    }
   ],
   "source": [
    "kpca_df = pd.DataFrame()\n",
    "kpca_df['Cumulative Variance Ratio'] = cvr\n",
    "kpca_df['Explained Variance Ratio'] = evr\n",
    "display(kpca_df[kpca_df['Cumulative Variance Ratio'] >= 0.90])"
   ]
  },
  {
   "cell_type": "markdown",
   "metadata": {},
   "source": [
    "### From the above table, we can conclude that even if we use approx. half the number of components using Kernalized PCA, our new dataset will have a Cumulative Variance as 90% of the original dataset"
   ]
  },
  {
   "cell_type": "markdown",
   "id": "57bf9ddb",
   "metadata": {},
   "source": [
    "# KPCA Tuned"
   ]
  },
  {
   "cell_type": "code",
   "execution_count": 14,
   "metadata": {},
   "outputs": [],
   "source": [
    "X_train = X_train[:10000]\n",
    "y_train = y_train[:10000]\n",
    "X_test = X_test[:3500]\n",
    "y_test = y_test[:3500]"
   ]
  },
  {
   "cell_type": "code",
   "execution_count": 15,
   "id": "8eaddc8b",
   "metadata": {},
   "outputs": [],
   "source": [
    "from sklearn.decomposition import KernelPCA\n",
    "kpca = KernelPCA(n_components=100)\n",
    "X_train = kpca.fit_transform(X_train)\n",
    "X_test = kpca.transform(X_test)"
   ]
  },
  {
   "cell_type": "code",
   "execution_count": 16,
   "id": "b6c7a577",
   "metadata": {},
   "outputs": [
    {
     "data": {
      "text/plain": [
       "(10000, 100)"
      ]
     },
     "execution_count": 16,
     "metadata": {},
     "output_type": "execute_result"
    }
   ],
   "source": [
    "X_train.shape"
   ]
  },
  {
   "cell_type": "code",
   "execution_count": 18,
   "metadata": {},
   "outputs": [
    {
     "data": {
      "text/html": [
       "<style>#sk-container-id-1 {color: black;background-color: white;}#sk-container-id-1 pre{padding: 0;}#sk-container-id-1 div.sk-toggleable {background-color: white;}#sk-container-id-1 label.sk-toggleable__label {cursor: pointer;display: block;width: 100%;margin-bottom: 0;padding: 0.3em;box-sizing: border-box;text-align: center;}#sk-container-id-1 label.sk-toggleable__label-arrow:before {content: \"▸\";float: left;margin-right: 0.25em;color: #696969;}#sk-container-id-1 label.sk-toggleable__label-arrow:hover:before {color: black;}#sk-container-id-1 div.sk-estimator:hover label.sk-toggleable__label-arrow:before {color: black;}#sk-container-id-1 div.sk-toggleable__content {max-height: 0;max-width: 0;overflow: hidden;text-align: left;background-color: #f0f8ff;}#sk-container-id-1 div.sk-toggleable__content pre {margin: 0.2em;color: black;border-radius: 0.25em;background-color: #f0f8ff;}#sk-container-id-1 input.sk-toggleable__control:checked~div.sk-toggleable__content {max-height: 200px;max-width: 100%;overflow: auto;}#sk-container-id-1 input.sk-toggleable__control:checked~label.sk-toggleable__label-arrow:before {content: \"▾\";}#sk-container-id-1 div.sk-estimator input.sk-toggleable__control:checked~label.sk-toggleable__label {background-color: #d4ebff;}#sk-container-id-1 div.sk-label input.sk-toggleable__control:checked~label.sk-toggleable__label {background-color: #d4ebff;}#sk-container-id-1 input.sk-hidden--visually {border: 0;clip: rect(1px 1px 1px 1px);clip: rect(1px, 1px, 1px, 1px);height: 1px;margin: -1px;overflow: hidden;padding: 0;position: absolute;width: 1px;}#sk-container-id-1 div.sk-estimator {font-family: monospace;background-color: #f0f8ff;border: 1px dotted black;border-radius: 0.25em;box-sizing: border-box;margin-bottom: 0.5em;}#sk-container-id-1 div.sk-estimator:hover {background-color: #d4ebff;}#sk-container-id-1 div.sk-parallel-item::after {content: \"\";width: 100%;border-bottom: 1px solid gray;flex-grow: 1;}#sk-container-id-1 div.sk-label:hover label.sk-toggleable__label {background-color: #d4ebff;}#sk-container-id-1 div.sk-serial::before {content: \"\";position: absolute;border-left: 1px solid gray;box-sizing: border-box;top: 0;bottom: 0;left: 50%;z-index: 0;}#sk-container-id-1 div.sk-serial {display: flex;flex-direction: column;align-items: center;background-color: white;padding-right: 0.2em;padding-left: 0.2em;position: relative;}#sk-container-id-1 div.sk-item {position: relative;z-index: 1;}#sk-container-id-1 div.sk-parallel {display: flex;align-items: stretch;justify-content: center;background-color: white;position: relative;}#sk-container-id-1 div.sk-item::before, #sk-container-id-1 div.sk-parallel-item::before {content: \"\";position: absolute;border-left: 1px solid gray;box-sizing: border-box;top: 0;bottom: 0;left: 50%;z-index: -1;}#sk-container-id-1 div.sk-parallel-item {display: flex;flex-direction: column;z-index: 1;position: relative;background-color: white;}#sk-container-id-1 div.sk-parallel-item:first-child::after {align-self: flex-end;width: 50%;}#sk-container-id-1 div.sk-parallel-item:last-child::after {align-self: flex-start;width: 50%;}#sk-container-id-1 div.sk-parallel-item:only-child::after {width: 0;}#sk-container-id-1 div.sk-dashed-wrapped {border: 1px dashed gray;margin: 0 0.4em 0.5em 0.4em;box-sizing: border-box;padding-bottom: 0.4em;background-color: white;}#sk-container-id-1 div.sk-label label {font-family: monospace;font-weight: bold;display: inline-block;line-height: 1.2em;}#sk-container-id-1 div.sk-label-container {text-align: center;}#sk-container-id-1 div.sk-container {/* jupyter's `normalize.less` sets `[hidden] { display: none; }` but bootstrap.min.css set `[hidden] { display: none !important; }` so we also need the `!important` here to be able to override the default hidden behavior on the sphinx rendered scikit-learn.org. See: https://github.com/scikit-learn/scikit-learn/issues/21755 */display: inline-block !important;position: relative;}#sk-container-id-1 div.sk-text-repr-fallback {display: none;}</style><div id=\"sk-container-id-1\" class=\"sk-top-container\"><div class=\"sk-text-repr-fallback\"><pre>MLPRegressor(alpha=5e-05, early_stopping=True, hidden_layer_sizes=(50, 50),\n",
       "             learning_rate=&#x27;adaptive&#x27;, max_iter=500, random_state=42,\n",
       "             validation_fraction=0.2)</pre><b>In a Jupyter environment, please rerun this cell to show the HTML representation or trust the notebook. <br />On GitHub, the HTML representation is unable to render, please try loading this page with nbviewer.org.</b></div><div class=\"sk-container\" hidden><div class=\"sk-item\"><div class=\"sk-estimator sk-toggleable\"><input class=\"sk-toggleable__control sk-hidden--visually\" id=\"sk-estimator-id-1\" type=\"checkbox\" checked><label for=\"sk-estimator-id-1\" class=\"sk-toggleable__label sk-toggleable__label-arrow\">MLPRegressor</label><div class=\"sk-toggleable__content\"><pre>MLPRegressor(alpha=5e-05, early_stopping=True, hidden_layer_sizes=(50, 50),\n",
       "             learning_rate=&#x27;adaptive&#x27;, max_iter=500, random_state=42,\n",
       "             validation_fraction=0.2)</pre></div></div></div></div></div>"
      ],
      "text/plain": [
       "MLPRegressor(alpha=5e-05, early_stopping=True, hidden_layer_sizes=(50, 50),\n",
       "             learning_rate='adaptive', max_iter=500, random_state=42,\n",
       "             validation_fraction=0.2)"
      ]
     },
     "execution_count": 18,
     "metadata": {},
     "output_type": "execute_result"
    }
   ],
   "source": [
    "best_model.fit(X_train, y_train)"
   ]
  },
  {
   "cell_type": "code",
   "execution_count": 19,
   "metadata": {},
   "outputs": [],
   "source": [
    "y_pred = best_model.predict(X_test)"
   ]
  },
  {
   "cell_type": "code",
   "execution_count": 20,
   "metadata": {},
   "outputs": [
    {
     "name": "stdout",
     "output_type": "stream",
     "text": [
      "Mean Squared Error (MSE): 955.990888657508\n",
      "Root Mean Squared Error (RMSE): 30.91910232619162\n",
      "Mean Absolute Error (MAE): 15.398330761501565\n",
      "R-squared (R²): 0.21709931925488557\n",
      "Explained Variance Score: 0.21829851443570392\n"
     ]
    }
   ],
   "source": [
    "from sklearn.metrics import mean_squared_error, mean_absolute_error, r2_score, explained_variance_score\n",
    "import numpy as np\n",
    "\n",
    "\n",
    "# Mean Squared Error (MSE)\n",
    "mse = mean_squared_error(y_test, y_pred)\n",
    "print(\"Mean Squared Error (MSE):\", mse)\n",
    "\n",
    "# Root Mean Squared Error (RMSE)\n",
    "rmse = np.sqrt(mse)\n",
    "print(\"Root Mean Squared Error (RMSE):\", rmse)\n",
    "\n",
    "# Mean Absolute Error (MAE)\n",
    "mae = mean_absolute_error(y_test,y_pred)\n",
    "print(\"Mean Absolute Error (MAE):\", mae)\n",
    "\n",
    "# R-squared (R²) or Coefficient of Determination\n",
    "r2 = r2_score(y_test, y_pred)\n",
    "print(\"R-squared (R²):\", r2)\n",
    "\n",
    "# Explained Variance Score\n",
    "explained_var = explained_variance_score(y_test, y_pred)\n",
    "print(\"Explained Variance Score:\", explained_var)"
   ]
  }
 ],
 "metadata": {
  "colab": {
   "gpuType": "T4",
   "provenance": []
  },
  "kernelspec": {
   "display_name": "Python 3 (ipykernel)",
   "language": "python",
   "name": "python3"
  },
  "language_info": {
   "codemirror_mode": {
    "name": "ipython",
    "version": 3
   },
   "file_extension": ".py",
   "mimetype": "text/x-python",
   "name": "python",
   "nbconvert_exporter": "python",
   "pygments_lexer": "ipython3",
   "version": "3.11.4"
  }
 },
 "nbformat": 4,
 "nbformat_minor": 1
}
